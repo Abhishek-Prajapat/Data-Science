{
 "cells": [
  {
   "cell_type": "markdown",
   "metadata": {
    "papermill": {
     "duration": 0.040884,
     "end_time": "2020-10-21T22:22:39.813163",
     "exception": false,
     "start_time": "2020-10-21T22:22:39.772279",
     "status": "completed"
    },
    "tags": []
   },
   "source": [
    "## What is this Notebook about?"
   ]
  },
  {
   "cell_type": "markdown",
   "metadata": {
    "papermill": {
     "duration": 0.038812,
     "end_time": "2020-10-21T22:22:39.891721",
     "exception": false,
     "start_time": "2020-10-21T22:22:39.852909",
     "status": "completed"
    },
    "tags": []
   },
   "source": [
    "In this notebook I will try to share different aspects of a NLP problem and well see what difference one makes. This is not a traditional approach to a pproblem but a compairative one."
   ]
  },
  {
   "cell_type": "markdown",
   "metadata": {
    "papermill": {
     "duration": 0.039215,
     "end_time": "2020-10-21T22:22:39.970378",
     "exception": false,
     "start_time": "2020-10-21T22:22:39.931163",
     "status": "completed"
    },
    "tags": []
   },
   "source": [
    "# Table of Contents\n",
    "1. [Prepairing the data](#1)\n",
    "2. [Tokenization](#2)\n",
    "3. [Problem based Cleaning](#3)\n",
    "4. [Where embedding might fail](#4)\n",
    "5. [Traditional data prep and where to use it](#5)\n",
    "6. [Augmentation](#6)\n",
    "7. [Resolving StopWords](#7)\n",
    "8. [A look at Collection extraction](#8)\n",
    "9. [Similarity Analysis Among Sentences and feature extraction](#9)"
   ]
  },
  {
   "cell_type": "markdown",
   "metadata": {
    "papermill": {
     "duration": 0.038991,
     "end_time": "2020-10-21T22:22:40.048737",
     "exception": false,
     "start_time": "2020-10-21T22:22:40.009746",
     "status": "completed"
    },
    "tags": []
   },
   "source": [
    "<font color=\"red\" size=3>Please upvote this kernel if you like it. It motivates me to produce more quality content :)</font>"
   ]
  },
  {
   "cell_type": "code",
   "execution_count": 1,
   "metadata": {
    "_cell_guid": "79c7e3d0-c299-4dcb-8224-4455121ee9b0",
    "_kg_hide-input": true,
    "_uuid": "d629ff2d2480ee46fbb7e2d37f6b5fab8052498a",
    "execution": {
     "iopub.execute_input": "2020-10-21T22:22:40.133659Z",
     "iopub.status.busy": "2020-10-21T22:22:40.132931Z",
     "iopub.status.idle": "2020-10-21T22:22:41.975659Z",
     "shell.execute_reply": "2020-10-21T22:22:41.976369Z"
    },
    "papermill": {
     "duration": 1.888506,
     "end_time": "2020-10-21T22:22:41.976584",
     "exception": false,
     "start_time": "2020-10-21T22:22:40.088078",
     "status": "completed"
    },
    "tags": []
   },
   "outputs": [
    {
     "name": "stderr",
     "output_type": "stream",
     "text": [
      "/opt/conda/lib/python3.7/site-packages/tqdm/std.py:666: FutureWarning: The Panel class is removed from pandas. Accessing it from the top-level namespace will also be removed in the next version\n",
      "  from pandas import Panel\n"
     ]
    }
   ],
   "source": [
    "import pandas as pd\n",
    "import numpy as np\n",
    "import matplotlib.pyplot as plt\n",
    "import seaborn as sns\n",
    "import plotly.express as px\n",
    "from sklearn.model_selection import StratifiedKFold\n",
    "from tqdm.notebook import tqdm\n",
    "from IPython.display import YouTubeVideo\n",
    "tqdm.pandas()"
   ]
  },
  {
   "cell_type": "markdown",
   "metadata": {
    "papermill": {
     "duration": 0.039979,
     "end_time": "2020-10-21T22:22:42.058893",
     "exception": false,
     "start_time": "2020-10-21T22:22:42.018914",
     "status": "completed"
    },
    "tags": []
   },
   "source": [
    "----------------------------------------------------------------------------------------------------------------------------------------------\n",
    "<a id =\"1\" > </a>\n",
    "## 1.Prepairing the data"
   ]
  },
  {
   "cell_type": "code",
   "execution_count": 2,
   "metadata": {
    "execution": {
     "iopub.execute_input": "2020-10-21T22:22:42.144916Z",
     "iopub.status.busy": "2020-10-21T22:22:42.144279Z",
     "iopub.status.idle": "2020-10-21T22:22:42.443048Z",
     "shell.execute_reply": "2020-10-21T22:22:42.443530Z"
    },
    "papermill": {
     "duration": 0.344798,
     "end_time": "2020-10-21T22:22:42.443662",
     "exception": false,
     "start_time": "2020-10-21T22:22:42.098864",
     "status": "completed"
    },
    "tags": []
   },
   "outputs": [
    {
     "data": {
      "text/html": [
       "<div>\n",
       "<style scoped>\n",
       "    .dataframe tbody tr th:only-of-type {\n",
       "        vertical-align: middle;\n",
       "    }\n",
       "\n",
       "    .dataframe tbody tr th {\n",
       "        vertical-align: top;\n",
       "    }\n",
       "\n",
       "    .dataframe thead th {\n",
       "        text-align: right;\n",
       "    }\n",
       "</style>\n",
       "<table border=\"1\" class=\"dataframe\">\n",
       "  <thead>\n",
       "    <tr style=\"text-align: right;\">\n",
       "      <th></th>\n",
       "      <th>UserName</th>\n",
       "      <th>ScreenName</th>\n",
       "      <th>Location</th>\n",
       "      <th>TweetAt</th>\n",
       "      <th>OriginalTweet</th>\n",
       "      <th>Sentiment</th>\n",
       "    </tr>\n",
       "  </thead>\n",
       "  <tbody>\n",
       "    <tr>\n",
       "      <th>0</th>\n",
       "      <td>3799</td>\n",
       "      <td>48751</td>\n",
       "      <td>London</td>\n",
       "      <td>16-03-2020</td>\n",
       "      <td>@MeNyrbie @Phil_Gahan @Chrisitv https://t.co/i...</td>\n",
       "      <td>Neutral</td>\n",
       "    </tr>\n",
       "    <tr>\n",
       "      <th>1</th>\n",
       "      <td>3800</td>\n",
       "      <td>48752</td>\n",
       "      <td>UK</td>\n",
       "      <td>16-03-2020</td>\n",
       "      <td>advice Talk to your neighbours family to excha...</td>\n",
       "      <td>Positive</td>\n",
       "    </tr>\n",
       "    <tr>\n",
       "      <th>2</th>\n",
       "      <td>3801</td>\n",
       "      <td>48753</td>\n",
       "      <td>Vagabonds</td>\n",
       "      <td>16-03-2020</td>\n",
       "      <td>Coronavirus Australia: Woolworths to give elde...</td>\n",
       "      <td>Positive</td>\n",
       "    </tr>\n",
       "    <tr>\n",
       "      <th>3</th>\n",
       "      <td>3802</td>\n",
       "      <td>48754</td>\n",
       "      <td>NaN</td>\n",
       "      <td>16-03-2020</td>\n",
       "      <td>My food stock is not the only one which is emp...</td>\n",
       "      <td>Positive</td>\n",
       "    </tr>\n",
       "    <tr>\n",
       "      <th>4</th>\n",
       "      <td>3803</td>\n",
       "      <td>48755</td>\n",
       "      <td>NaN</td>\n",
       "      <td>16-03-2020</td>\n",
       "      <td>Me, ready to go at supermarket during the #COV...</td>\n",
       "      <td>Extremely Negative</td>\n",
       "    </tr>\n",
       "  </tbody>\n",
       "</table>\n",
       "</div>"
      ],
      "text/plain": [
       "   UserName  ScreenName   Location     TweetAt  \\\n",
       "0      3799       48751     London  16-03-2020   \n",
       "1      3800       48752         UK  16-03-2020   \n",
       "2      3801       48753  Vagabonds  16-03-2020   \n",
       "3      3802       48754        NaN  16-03-2020   \n",
       "4      3803       48755        NaN  16-03-2020   \n",
       "\n",
       "                                       OriginalTweet           Sentiment  \n",
       "0  @MeNyrbie @Phil_Gahan @Chrisitv https://t.co/i...             Neutral  \n",
       "1  advice Talk to your neighbours family to excha...            Positive  \n",
       "2  Coronavirus Australia: Woolworths to give elde...            Positive  \n",
       "3  My food stock is not the only one which is emp...            Positive  \n",
       "4  Me, ready to go at supermarket during the #COV...  Extremely Negative  "
      ]
     },
     "execution_count": 2,
     "metadata": {},
     "output_type": "execute_result"
    }
   ],
   "source": [
    "df = pd.read_csv('../input/covid-19-nlp-text-classification/Corona_NLP_train.csv', encoding='latin8')\n",
    "df.head()"
   ]
  },
  {
   "cell_type": "markdown",
   "metadata": {
    "papermill": {
     "duration": 0.041256,
     "end_time": "2020-10-21T22:22:42.526279",
     "exception": false,
     "start_time": "2020-10-21T22:22:42.485023",
     "status": "completed"
    },
    "tags": []
   },
   "source": [
    "Before doing anything else let's first create folds for our dataset."
   ]
  },
  {
   "cell_type": "code",
   "execution_count": 3,
   "metadata": {
    "_kg_hide-input": true,
    "execution": {
     "iopub.execute_input": "2020-10-21T22:22:42.615244Z",
     "iopub.status.busy": "2020-10-21T22:22:42.614510Z",
     "iopub.status.idle": "2020-10-21T22:22:42.617295Z",
     "shell.execute_reply": "2020-10-21T22:22:42.616765Z"
    },
    "papermill": {
     "duration": 0.049555,
     "end_time": "2020-10-21T22:22:42.617413",
     "exception": false,
     "start_time": "2020-10-21T22:22:42.567858",
     "status": "completed"
    },
    "tags": []
   },
   "outputs": [],
   "source": [
    "def create_folds(X,y):\n",
    "    \n",
    "    df['kfold'] = -1\n",
    "    \n",
    "    splitter = StratifiedKFold(n_splits=5)\n",
    "    \n",
    "    for f, (t_, v_) in enumerate(splitter.split(X, y)):\n",
    "        \n",
    "        X.loc[v_, 'kfold'] = f\n",
    "        \n",
    "    return X"
   ]
  },
  {
   "cell_type": "code",
   "execution_count": 4,
   "metadata": {
    "_kg_hide-input": false,
    "execution": {
     "iopub.execute_input": "2020-10-21T22:22:42.742233Z",
     "iopub.status.busy": "2020-10-21T22:22:42.705460Z",
     "iopub.status.idle": "2020-10-21T22:22:42.767686Z",
     "shell.execute_reply": "2020-10-21T22:22:42.767088Z"
    },
    "papermill": {
     "duration": 0.109322,
     "end_time": "2020-10-21T22:22:42.767794",
     "exception": false,
     "start_time": "2020-10-21T22:22:42.658472",
     "status": "completed"
    },
    "tags": []
   },
   "outputs": [
    {
     "data": {
      "text/html": [
       "<div>\n",
       "<style scoped>\n",
       "    .dataframe tbody tr th:only-of-type {\n",
       "        vertical-align: middle;\n",
       "    }\n",
       "\n",
       "    .dataframe tbody tr th {\n",
       "        vertical-align: top;\n",
       "    }\n",
       "\n",
       "    .dataframe thead th {\n",
       "        text-align: right;\n",
       "    }\n",
       "</style>\n",
       "<table border=\"1\" class=\"dataframe\">\n",
       "  <thead>\n",
       "    <tr style=\"text-align: right;\">\n",
       "      <th></th>\n",
       "      <th>UserName</th>\n",
       "      <th>ScreenName</th>\n",
       "      <th>Location</th>\n",
       "      <th>TweetAt</th>\n",
       "      <th>OriginalTweet</th>\n",
       "      <th>Sentiment</th>\n",
       "      <th>kfold</th>\n",
       "    </tr>\n",
       "  </thead>\n",
       "  <tbody>\n",
       "    <tr>\n",
       "      <th>0</th>\n",
       "      <td>3799</td>\n",
       "      <td>48751</td>\n",
       "      <td>London</td>\n",
       "      <td>16-03-2020</td>\n",
       "      <td>@MeNyrbie @Phil_Gahan @Chrisitv https://t.co/i...</td>\n",
       "      <td>Neutral</td>\n",
       "      <td>0</td>\n",
       "    </tr>\n",
       "    <tr>\n",
       "      <th>1</th>\n",
       "      <td>3800</td>\n",
       "      <td>48752</td>\n",
       "      <td>UK</td>\n",
       "      <td>16-03-2020</td>\n",
       "      <td>advice Talk to your neighbours family to excha...</td>\n",
       "      <td>Positive</td>\n",
       "      <td>0</td>\n",
       "    </tr>\n",
       "    <tr>\n",
       "      <th>2</th>\n",
       "      <td>3801</td>\n",
       "      <td>48753</td>\n",
       "      <td>Vagabonds</td>\n",
       "      <td>16-03-2020</td>\n",
       "      <td>Coronavirus Australia: Woolworths to give elde...</td>\n",
       "      <td>Positive</td>\n",
       "      <td>0</td>\n",
       "    </tr>\n",
       "    <tr>\n",
       "      <th>3</th>\n",
       "      <td>3802</td>\n",
       "      <td>48754</td>\n",
       "      <td>NaN</td>\n",
       "      <td>16-03-2020</td>\n",
       "      <td>My food stock is not the only one which is emp...</td>\n",
       "      <td>Positive</td>\n",
       "      <td>0</td>\n",
       "    </tr>\n",
       "    <tr>\n",
       "      <th>4</th>\n",
       "      <td>3803</td>\n",
       "      <td>48755</td>\n",
       "      <td>NaN</td>\n",
       "      <td>16-03-2020</td>\n",
       "      <td>Me, ready to go at supermarket during the #COV...</td>\n",
       "      <td>Extremely Negative</td>\n",
       "      <td>0</td>\n",
       "    </tr>\n",
       "  </tbody>\n",
       "</table>\n",
       "</div>"
      ],
      "text/plain": [
       "   UserName  ScreenName   Location     TweetAt  \\\n",
       "0      3799       48751     London  16-03-2020   \n",
       "1      3800       48752         UK  16-03-2020   \n",
       "2      3801       48753  Vagabonds  16-03-2020   \n",
       "3      3802       48754        NaN  16-03-2020   \n",
       "4      3803       48755        NaN  16-03-2020   \n",
       "\n",
       "                                       OriginalTweet           Sentiment  \\\n",
       "0  @MeNyrbie @Phil_Gahan @Chrisitv https://t.co/i...             Neutral   \n",
       "1  advice Talk to your neighbours family to excha...            Positive   \n",
       "2  Coronavirus Australia: Woolworths to give elde...            Positive   \n",
       "3  My food stock is not the only one which is emp...            Positive   \n",
       "4  Me, ready to go at supermarket during the #COV...  Extremely Negative   \n",
       "\n",
       "   kfold  \n",
       "0      0  \n",
       "1      0  \n",
       "2      0  \n",
       "3      0  \n",
       "4      0  "
      ]
     },
     "execution_count": 4,
     "metadata": {},
     "output_type": "execute_result"
    }
   ],
   "source": [
    "df = create_folds(df, df['Sentiment'])\n",
    "df.head()"
   ]
  },
  {
   "cell_type": "code",
   "execution_count": 5,
   "metadata": {
    "execution": {
     "iopub.execute_input": "2020-10-21T22:22:42.863020Z",
     "iopub.status.busy": "2020-10-21T22:22:42.855675Z",
     "iopub.status.idle": "2020-10-21T22:22:42.867298Z",
     "shell.execute_reply": "2020-10-21T22:22:42.866763Z"
    },
    "papermill": {
     "duration": 0.058158,
     "end_time": "2020-10-21T22:22:42.867413",
     "exception": false,
     "start_time": "2020-10-21T22:22:42.809255",
     "status": "completed"
    },
    "tags": []
   },
   "outputs": [
    {
     "data": {
      "text/html": [
       "<div>\n",
       "<style scoped>\n",
       "    .dataframe tbody tr th:only-of-type {\n",
       "        vertical-align: middle;\n",
       "    }\n",
       "\n",
       "    .dataframe tbody tr th {\n",
       "        vertical-align: top;\n",
       "    }\n",
       "\n",
       "    .dataframe thead th {\n",
       "        text-align: right;\n",
       "    }\n",
       "</style>\n",
       "<table border=\"1\" class=\"dataframe\">\n",
       "  <thead>\n",
       "    <tr style=\"text-align: right;\">\n",
       "      <th></th>\n",
       "      <th>OriginalTweet</th>\n",
       "      <th>Sentiment</th>\n",
       "      <th>kfold</th>\n",
       "    </tr>\n",
       "  </thead>\n",
       "  <tbody>\n",
       "    <tr>\n",
       "      <th>0</th>\n",
       "      <td>@MeNyrbie @Phil_Gahan @Chrisitv https://t.co/i...</td>\n",
       "      <td>Neutral</td>\n",
       "      <td>0</td>\n",
       "    </tr>\n",
       "    <tr>\n",
       "      <th>1</th>\n",
       "      <td>advice Talk to your neighbours family to excha...</td>\n",
       "      <td>Positive</td>\n",
       "      <td>0</td>\n",
       "    </tr>\n",
       "  </tbody>\n",
       "</table>\n",
       "</div>"
      ],
      "text/plain": [
       "                                       OriginalTweet Sentiment  kfold\n",
       "0  @MeNyrbie @Phil_Gahan @Chrisitv https://t.co/i...   Neutral      0\n",
       "1  advice Talk to your neighbours family to excha...  Positive      0"
      ]
     },
     "execution_count": 5,
     "metadata": {},
     "output_type": "execute_result"
    }
   ],
   "source": [
    "df = df[['OriginalTweet', 'Sentiment', 'kfold']]\n",
    "df.head(2)"
   ]
  },
  {
   "cell_type": "markdown",
   "metadata": {
    "papermill": {
     "duration": 0.041599,
     "end_time": "2020-10-21T22:22:42.950788",
     "exception": false,
     "start_time": "2020-10-21T22:22:42.909189",
     "status": "completed"
    },
    "tags": []
   },
   "source": [
    "----------------------------------------------------------------------------------------------------------------------------------------------\n",
    "<a id =\"2\" > </a>\n",
    "## 2.Tokenization\n",
    "While tokenizing the tweets we have many tokenizers to choose from. Here we have to wise and to see what gives what?"
   ]
  },
  {
   "cell_type": "code",
   "execution_count": 6,
   "metadata": {
    "execution": {
     "iopub.execute_input": "2020-10-21T22:22:43.039743Z",
     "iopub.status.busy": "2020-10-21T22:22:43.038849Z",
     "iopub.status.idle": "2020-10-21T22:22:48.805220Z",
     "shell.execute_reply": "2020-10-21T22:22:48.805758Z"
    },
    "papermill": {
     "duration": 5.812906,
     "end_time": "2020-10-21T22:22:48.805926",
     "exception": false,
     "start_time": "2020-10-21T22:22:42.993020",
     "status": "completed"
    },
    "tags": []
   },
   "outputs": [],
   "source": [
    "from tensorflow.keras.preprocessing.text import Tokenizer\n",
    "from nltk.tokenize import TweetTokenizer, word_tokenize"
   ]
  },
  {
   "cell_type": "code",
   "execution_count": 7,
   "metadata": {
    "execution": {
     "iopub.execute_input": "2020-10-21T22:22:48.903817Z",
     "iopub.status.busy": "2020-10-21T22:22:48.903091Z",
     "iopub.status.idle": "2020-10-21T22:22:48.905931Z",
     "shell.execute_reply": "2020-10-21T22:22:48.905299Z"
    },
    "papermill": {
     "duration": 0.056459,
     "end_time": "2020-10-21T22:22:48.906064",
     "exception": false,
     "start_time": "2020-10-21T22:22:48.849605",
     "status": "completed"
    },
    "tags": []
   },
   "outputs": [],
   "source": [
    "sentences = df['OriginalTweet'][:5]"
   ]
  },
  {
   "cell_type": "code",
   "execution_count": 8,
   "metadata": {
    "_kg_hide-input": true,
    "execution": {
     "iopub.execute_input": "2020-10-21T22:22:48.999671Z",
     "iopub.status.busy": "2020-10-21T22:22:48.998939Z",
     "iopub.status.idle": "2020-10-21T22:22:49.016902Z",
     "shell.execute_reply": "2020-10-21T22:22:49.016259Z"
    },
    "papermill": {
     "duration": 0.06823,
     "end_time": "2020-10-21T22:22:49.017036",
     "exception": false,
     "start_time": "2020-10-21T22:22:48.948806",
     "status": "completed"
    },
    "tags": []
   },
   "outputs": [
    {
     "name": "stdout",
     "output_type": "stream",
     "text": [
      "Original:\n",
      "\n",
      "Coronavirus Australia: Woolworths to give elderly, disabled dedicated shopping hours amid COVID-19 outbreak https://t.co/bInCA9Vp8P\n",
      "\n",
      "Tensorflow Tokenizer\n",
      ":\n",
      "{'coronavirus': 1, 'australia': 2, 'woolworths': 3, 'to': 4, 'give': 5, 'elderly': 6, 'disabled': 7, 'dedicated': 8, 'shopping': 9, 'hours': 10, 'amid': 11, 'covid': 12, '19': 13, 'outbreak': 14, 'https': 15, 't': 16, 'co': 17, 'binca9vp8p': 18}\n",
      "\n",
      "Tweet Tokenizer:\n",
      "\n",
      "['Coronavirus', 'Australia', ':', 'Woolworths', 'to', 'give', 'elderly', ',', 'disabled', 'dedicated', 'shopping', 'hours', 'amid', 'COVID', '-', '19', 'outbreak', 'https://t.co/bInCA9Vp8P']\n",
      "\n",
      "NLTK word_tokenizer:\n",
      "\n",
      "['Coronavirus', 'Australia', ':', 'Woolworths', 'to', 'give', 'elderly', ',', 'disabled', 'dedicated', 'shopping', 'hours', 'amid', 'COVID-19', 'outbreak', 'https', ':', '//t.co/bInCA9Vp8P']\n"
     ]
    }
   ],
   "source": [
    "for i in sentences[2:3]:\n",
    "    print(\"Original:\\n\")\n",
    "    print(i)\n",
    "    print('\\nTensorflow Tokenizer\\n:')\n",
    "    a = Tokenizer()\n",
    "    a.fit_on_texts([i])\n",
    "    print(a.word_index)\n",
    "    print(\"\\nTweet Tokenizer:\\n\")\n",
    "    print(TweetTokenizer().tokenize(i))\n",
    "    print('\\nNLTK word_tokenizer:\\n')\n",
    "    print(word_tokenize(i))"
   ]
  },
  {
   "cell_type": "markdown",
   "metadata": {
    "papermill": {
     "duration": 0.043032,
     "end_time": "2020-10-21T22:22:49.103857",
     "exception": false,
     "start_time": "2020-10-21T22:22:49.060825",
     "status": "completed"
    },
    "tags": []
   },
   "source": [
    "As you can see these all yield different results and you have to see which works best for your use case. For now we will use NLTK Tweet-Tokenizer."
   ]
  },
  {
   "cell_type": "code",
   "execution_count": 9,
   "metadata": {
    "execution": {
     "iopub.execute_input": "2020-10-21T22:22:49.198865Z",
     "iopub.status.busy": "2020-10-21T22:22:49.198209Z",
     "iopub.status.idle": "2020-10-21T22:22:52.872527Z",
     "shell.execute_reply": "2020-10-21T22:22:52.868594Z"
    },
    "papermill": {
     "duration": 3.724461,
     "end_time": "2020-10-21T22:22:52.872652",
     "exception": false,
     "start_time": "2020-10-21T22:22:49.148191",
     "status": "completed"
    },
    "tags": []
   },
   "outputs": [
    {
     "data": {
      "application/vnd.jupyter.widget-view+json": {
       "model_id": "35803955fe9a47cc88f509e902d8396f",
       "version_major": 2,
       "version_minor": 0
      },
      "text/plain": [
       "HBox(children=(FloatProgress(value=0.0, max=41157.0), HTML(value='')))"
      ]
     },
     "metadata": {},
     "output_type": "display_data"
    },
    {
     "name": "stdout",
     "output_type": "stream",
     "text": [
      "\n"
     ]
    }
   ],
   "source": [
    "tweets = []\n",
    "\n",
    "for i in tqdm(df['OriginalTweet']):\n",
    "    \n",
    "    tweet = TweetTokenizer().tokenize(i)\n",
    "    tweet = ' '.join(tweet)\n",
    "    tweets.append(tweet)"
   ]
  },
  {
   "cell_type": "code",
   "execution_count": 10,
   "metadata": {
    "execution": {
     "iopub.execute_input": "2020-10-21T22:22:52.964040Z",
     "iopub.status.busy": "2020-10-21T22:22:52.963227Z",
     "iopub.status.idle": "2020-10-21T22:22:52.967312Z",
     "shell.execute_reply": "2020-10-21T22:22:52.966696Z"
    },
    "papermill": {
     "duration": 0.051417,
     "end_time": "2020-10-21T22:22:52.967422",
     "exception": false,
     "start_time": "2020-10-21T22:22:52.916005",
     "status": "completed"
    },
    "tags": []
   },
   "outputs": [
    {
     "name": "stdout",
     "output_type": "stream",
     "text": [
      "@MeNyrbie @Phil_Gahan @Chrisitv https://t.co/iFz9FAn2Pa and https://t.co/xX6ghGFzCC and https://t.co/I2NlzdxNo8 \n",
      "\n",
      "advice Talk to your neighbours family to exchange phone numbers create contact list with phone numbers of neighbours schools employer chemist GP set up online shopping accounts if poss adequate supplies of regular meds but not over order \n",
      "\n",
      "Coronavirus Australia : Woolworths to give elderly , disabled dedicated shopping hours amid COVID - 19 outbreak https://t.co/bInCA9Vp8P \n",
      "\n"
     ]
    }
   ],
   "source": [
    "for i in tweets[:3]:\n",
    "    print(i, '\\n')"
   ]
  },
  {
   "cell_type": "markdown",
   "metadata": {
    "papermill": {
     "duration": 0.043342,
     "end_time": "2020-10-21T22:22:53.054506",
     "exception": false,
     "start_time": "2020-10-21T22:22:53.011164",
     "status": "completed"
    },
    "tags": []
   },
   "source": [
    "----------------------------------------------------------------------------------------------------------------------------------------------\n",
    "<a id =\"3\" > </a>\n",
    "## 3.Cleaning (Like thoughtful cleaning)"
   ]
  },
  {
   "cell_type": "markdown",
   "metadata": {
    "papermill": {
     "duration": 0.044071,
     "end_time": "2020-10-21T22:22:53.142419",
     "exception": false,
     "start_time": "2020-10-21T22:22:53.098348",
     "status": "completed"
    },
    "tags": []
   },
   "source": [
    "Ok. Now what ?? <br>\n",
    "Well, Now we can do data cleaning but before that we have to see how we should do that. And for that I have a very good kernel which I will take insights from. - https://www.kaggle.com/christofhenkel/how-to-preprocessing-when-using-embeddings. I will still write the code but for better explanation and deeper understanding I would highly recommend that notebook and also a couple more from the same author."
   ]
  },
  {
   "cell_type": "markdown",
   "metadata": {
    "papermill": {
     "duration": 0.043374,
     "end_time": "2020-10-21T22:22:53.233462",
     "exception": false,
     "start_time": "2020-10-21T22:22:53.190088",
     "status": "completed"
    },
    "tags": []
   },
   "source": [
    "In short, we will load the embeddings and see how much vocablary is covered by the embeddings."
   ]
  },
  {
   "cell_type": "code",
   "execution_count": 11,
   "metadata": {
    "execution": {
     "iopub.execute_input": "2020-10-21T22:22:53.325860Z",
     "iopub.status.busy": "2020-10-21T22:22:53.325086Z",
     "iopub.status.idle": "2020-10-21T22:23:26.071135Z",
     "shell.execute_reply": "2020-10-21T22:23:26.070435Z"
    },
    "papermill": {
     "duration": 32.794087,
     "end_time": "2020-10-21T22:23:26.071256",
     "exception": false,
     "start_time": "2020-10-21T22:22:53.277169",
     "status": "completed"
    },
    "tags": []
   },
   "outputs": [],
   "source": [
    "from gensim.models import KeyedVectors\n",
    "from gensim import downloader\n",
    "\n",
    "embedding_file = '../input/embeddings/GoogleNews-vectors-negative-300d.bin'\n",
    "\n",
    "embedding_model =  KeyedVectors.load_word2vec_format(embedding_file, binary=True)"
   ]
  },
  {
   "cell_type": "code",
   "execution_count": 12,
   "metadata": {
    "_kg_hide-input": true,
    "execution": {
     "iopub.execute_input": "2020-10-21T22:23:26.168286Z",
     "iopub.status.busy": "2020-10-21T22:23:26.167533Z",
     "iopub.status.idle": "2020-10-21T22:23:26.170448Z",
     "shell.execute_reply": "2020-10-21T22:23:26.169880Z"
    },
    "papermill": {
     "duration": 0.05395,
     "end_time": "2020-10-21T22:23:26.170561",
     "exception": false,
     "start_time": "2020-10-21T22:23:26.116611",
     "status": "completed"
    },
    "tags": []
   },
   "outputs": [],
   "source": [
    "def build_vocab(sentences, verbose =  True):\n",
    "    \"\"\"\n",
    "    :param sentences: list of list of words\n",
    "    :return: dictionary of words and their count\n",
    "    \"\"\"\n",
    "    vocab = {}\n",
    "    for sentence in tqdm(sentences, disable = (not verbose)):\n",
    "        for word in sentence:\n",
    "            try:\n",
    "                vocab[word] += 1\n",
    "            except KeyError:\n",
    "                vocab[word] = 1\n",
    "    return vocab"
   ]
  },
  {
   "cell_type": "code",
   "execution_count": 13,
   "metadata": {
    "execution": {
     "iopub.execute_input": "2020-10-21T22:23:26.326927Z",
     "iopub.status.busy": "2020-10-21T22:23:26.302753Z",
     "iopub.status.idle": "2020-10-21T22:23:26.875596Z",
     "shell.execute_reply": "2020-10-21T22:23:26.873310Z"
    },
    "papermill": {
     "duration": 0.659051,
     "end_time": "2020-10-21T22:23:26.875722",
     "exception": false,
     "start_time": "2020-10-21T22:23:26.216671",
     "status": "completed"
    },
    "tags": []
   },
   "outputs": [
    {
     "data": {
      "application/vnd.jupyter.widget-view+json": {
       "model_id": "883932fb1ae14363972cb877f09a2a52",
       "version_major": 2,
       "version_minor": 0
      },
      "text/plain": [
       "HBox(children=(FloatProgress(value=0.0, max=41157.0), HTML(value='')))"
      ]
     },
     "metadata": {},
     "output_type": "display_data"
    },
    {
     "name": "stdout",
     "output_type": "stream",
     "text": [
      "\n",
      "{'@MeNyrbie': 1, '@Phil_Gahan': 1, '@Chrisitv': 3, 'https://t.co/iFz9FAn2Pa': 1, 'and': 23262}\n"
     ]
    }
   ],
   "source": [
    "vocab = build_vocab([tweet.split() for tweet in tweets])\n",
    "print({k: vocab[k] for k in list(vocab)[:5]})"
   ]
  },
  {
   "cell_type": "code",
   "execution_count": 14,
   "metadata": {
    "_kg_hide-input": true,
    "execution": {
     "iopub.execute_input": "2020-10-21T22:23:26.979787Z",
     "iopub.status.busy": "2020-10-21T22:23:26.979138Z",
     "iopub.status.idle": "2020-10-21T22:23:26.981577Z",
     "shell.execute_reply": "2020-10-21T22:23:26.982017Z"
    },
    "papermill": {
     "duration": 0.058577,
     "end_time": "2020-10-21T22:23:26.982158",
     "exception": false,
     "start_time": "2020-10-21T22:23:26.923581",
     "status": "completed"
    },
    "tags": []
   },
   "outputs": [],
   "source": [
    "import operator \n",
    "\n",
    "def check_coverage(vocab,embeddings_index):\n",
    "    a = {}\n",
    "    oov = {}\n",
    "    k = 0\n",
    "    i = 0\n",
    "    for word in tqdm(vocab):\n",
    "        try:\n",
    "            a[word] = embeddings_index[word]\n",
    "            k += vocab[word]\n",
    "        except:\n",
    "\n",
    "            oov[word] = vocab[word]\n",
    "            i += vocab[word]\n",
    "            pass\n",
    "\n",
    "    print('Found embeddings for {:.2%} of vocab'.format(len(a) / len(vocab)))\n",
    "    print('Found embeddings for  {:.2%} of all text'.format(k / (k + i)))\n",
    "    sorted_x = sorted(oov.items(), key=operator.itemgetter(1))[::-1]\n",
    "\n",
    "    return sorted_x"
   ]
  },
  {
   "cell_type": "code",
   "execution_count": 15,
   "metadata": {
    "execution": {
     "iopub.execute_input": "2020-10-21T22:23:27.093996Z",
     "iopub.status.busy": "2020-10-21T22:23:27.093268Z",
     "iopub.status.idle": "2020-10-21T22:23:27.465302Z",
     "shell.execute_reply": "2020-10-21T22:23:27.460820Z"
    },
    "papermill": {
     "duration": 0.438386,
     "end_time": "2020-10-21T22:23:27.465478",
     "exception": false,
     "start_time": "2020-10-21T22:23:27.027092",
     "status": "completed"
    },
    "tags": []
   },
   "outputs": [
    {
     "data": {
      "application/vnd.jupyter.widget-view+json": {
       "model_id": "23c1f3fdffeb4272ac141e404ad0ee3a",
       "version_major": 2,
       "version_minor": 0
      },
      "text/plain": [
       "HBox(children=(FloatProgress(value=0.0, max=103040.0), HTML(value='')))"
      ]
     },
     "metadata": {},
     "output_type": "display_data"
    },
    {
     "name": "stdout",
     "output_type": "stream",
     "text": [
      "\n",
      "Found embeddings for 37.86% of vocab\n",
      "Found embeddings for  71.45% of all text\n"
     ]
    }
   ],
   "source": [
    "oov = check_coverage(vocab,embedding_model)"
   ]
  },
  {
   "cell_type": "code",
   "execution_count": 16,
   "metadata": {
    "execution": {
     "iopub.execute_input": "2020-10-21T22:23:27.564564Z",
     "iopub.status.busy": "2020-10-21T22:23:27.563775Z",
     "iopub.status.idle": "2020-10-21T22:23:27.567941Z",
     "shell.execute_reply": "2020-10-21T22:23:27.567408Z"
    },
    "papermill": {
     "duration": 0.055901,
     "end_time": "2020-10-21T22:23:27.568071",
     "exception": false,
     "start_time": "2020-10-21T22:23:27.512170",
     "status": "completed"
    },
    "tags": []
   },
   "outputs": [
    {
     "data": {
      "text/plain": [
       "[('.', 39742),\n",
       " ('to', 37455),\n",
       " (',', 28642),\n",
       " ('and', 23262),\n",
       " ('of', 21284),\n",
       " ('?', 19010),\n",
       " ('a', 18048),\n",
       " ('#coronavirus', 12921),\n",
       " ('19', 12249),\n",
       " ('-', 11511),\n",
       " ('!', 7410),\n",
       " ('COVID', 7253),\n",
       " (':', 6247),\n",
       " ('\"', 3404),\n",
       " ('#COVID19', 3360),\n",
       " ('...', 3039),\n",
       " ('#Covid_19', 2588),\n",
       " (')', 2523),\n",
       " ('Covid', 2385),\n",
       " ('(', 2380)]"
      ]
     },
     "execution_count": 16,
     "metadata": {},
     "output_type": "execute_result"
    }
   ],
   "source": [
    "oov[:20]"
   ]
  },
  {
   "cell_type": "markdown",
   "metadata": {
    "papermill": {
     "duration": 0.046132,
     "end_time": "2020-10-21T22:23:27.660998",
     "exception": false,
     "start_time": "2020-10-21T22:23:27.614866",
     "status": "completed"
    },
    "tags": []
   },
   "source": [
    "We will remove the punctuation which is not in the embeddings"
   ]
  },
  {
   "cell_type": "code",
   "execution_count": 17,
   "metadata": {
    "_kg_hide-input": true,
    "execution": {
     "iopub.execute_input": "2020-10-21T22:23:27.761448Z",
     "iopub.status.busy": "2020-10-21T22:23:27.760781Z",
     "iopub.status.idle": "2020-10-21T22:23:27.764087Z",
     "shell.execute_reply": "2020-10-21T22:23:27.763436Z"
    },
    "papermill": {
     "duration": 0.056509,
     "end_time": "2020-10-21T22:23:27.764203",
     "exception": false,
     "start_time": "2020-10-21T22:23:27.707694",
     "status": "completed"
    },
    "tags": []
   },
   "outputs": [],
   "source": [
    "def clean_text(x):\n",
    "\n",
    "    x = str(x)\n",
    "    for punct in \"/-'\":\n",
    "        x = x.replace(punct, ' ')\n",
    "    for punct in '&':\n",
    "        x = x.replace(punct, f' {punct} ')\n",
    "    for punct in '?!.,\"#$%\\'()*+-/:;<=>@[\\\\]^_`{|}~' + '“”’':\n",
    "        x = x.replace(punct, '')\n",
    "    return x"
   ]
  },
  {
   "cell_type": "code",
   "execution_count": 18,
   "metadata": {
    "execution": {
     "iopub.execute_input": "2020-10-21T22:23:27.882757Z",
     "iopub.status.busy": "2020-10-21T22:23:27.877632Z",
     "iopub.status.idle": "2020-10-21T22:23:28.846219Z",
     "shell.execute_reply": "2020-10-21T22:23:28.842857Z"
    },
    "papermill": {
     "duration": 1.034482,
     "end_time": "2020-10-21T22:23:28.846375",
     "exception": false,
     "start_time": "2020-10-21T22:23:27.811893",
     "status": "completed"
    },
    "tags": []
   },
   "outputs": [
    {
     "data": {
      "application/vnd.jupyter.widget-view+json": {
       "model_id": "65369ae0748c4265939da9ba93990bb2",
       "version_major": 2,
       "version_minor": 0
      },
      "text/plain": [
       "HBox(children=(FloatProgress(value=0.0, max=41157.0), HTML(value='')))"
      ]
     },
     "metadata": {},
     "output_type": "display_data"
    },
    {
     "name": "stdout",
     "output_type": "stream",
     "text": [
      "\n"
     ]
    }
   ],
   "source": [
    "for index, tweet in enumerate(tweets):\n",
    "    \n",
    "    tweets[index] = clean_text(tweet)\n",
    "\n",
    "\n",
    "vocab = build_vocab([tweet.split() for tweet in tweets])"
   ]
  },
  {
   "cell_type": "code",
   "execution_count": 19,
   "metadata": {
    "execution": {
     "iopub.execute_input": "2020-10-21T22:23:28.964290Z",
     "iopub.status.busy": "2020-10-21T22:23:28.963292Z",
     "iopub.status.idle": "2020-10-21T22:23:29.358158Z",
     "shell.execute_reply": "2020-10-21T22:23:29.354956Z"
    },
    "papermill": {
     "duration": 0.463502,
     "end_time": "2020-10-21T22:23:29.358292",
     "exception": false,
     "start_time": "2020-10-21T22:23:28.894790",
     "status": "completed"
    },
    "tags": []
   },
   "outputs": [
    {
     "data": {
      "application/vnd.jupyter.widget-view+json": {
       "model_id": "92a84fb2c8124d3b9871166da6940f1b",
       "version_major": 2,
       "version_minor": 0
      },
      "text/plain": [
       "HBox(children=(FloatProgress(value=0.0, max=94352.0), HTML(value='')))"
      ]
     },
     "metadata": {},
     "output_type": "display_data"
    },
    {
     "name": "stdout",
     "output_type": "stream",
     "text": [
      "\n",
      "Found embeddings for 43.95% of vocab\n",
      "Found embeddings for  81.15% of all text\n"
     ]
    }
   ],
   "source": [
    "oov = check_coverage(vocab,embedding_model)"
   ]
  },
  {
   "cell_type": "code",
   "execution_count": 20,
   "metadata": {
    "execution": {
     "iopub.execute_input": "2020-10-21T22:23:29.463446Z",
     "iopub.status.busy": "2020-10-21T22:23:29.462420Z",
     "iopub.status.idle": "2020-10-21T22:23:29.466551Z",
     "shell.execute_reply": "2020-10-21T22:23:29.465834Z"
    },
    "papermill": {
     "duration": 0.0589,
     "end_time": "2020-10-21T22:23:29.466701",
     "exception": false,
     "start_time": "2020-10-21T22:23:29.407801",
     "status": "completed"
    },
    "tags": []
   },
   "outputs": [
    {
     "data": {
      "text/plain": [
       "[('to', 37568),\n",
       " ('tco', 23974),\n",
       " ('and', 23283),\n",
       " ('of', 21318),\n",
       " ('a', 18068),\n",
       " ('19', 12701),\n",
       " ('COVID', 8581),\n",
       " ('COVID19', 3557),\n",
       " ('Covid19', 2936),\n",
       " ('Covid', 2503),\n",
       " ('COVID2019', 1634),\n",
       " ('covid19', 1569),\n",
       " ('toiletpaper', 1436),\n",
       " ('covid', 1197),\n",
       " ('CoronaCrisis', 734),\n",
       " ('CoronaVirus', 669),\n",
       " ('SocialDistancing', 649),\n",
       " ('2020', 630),\n",
       " ('donÂ', 578),\n",
       " ('10', 531)]"
      ]
     },
     "execution_count": 20,
     "metadata": {},
     "output_type": "execute_result"
    }
   ],
   "source": [
    "oov[:20]"
   ]
  },
  {
   "cell_type": "markdown",
   "metadata": {
    "papermill": {
     "duration": 0.049696,
     "end_time": "2020-10-21T22:23:29.566068",
     "exception": false,
     "start_time": "2020-10-21T22:23:29.516372",
     "status": "completed"
    },
    "tags": []
   },
   "source": [
    "So, we did improve a lot but as we can see we still have a significat portion of vocab which still has no embeddings. <br>\n",
    "The main reason is our use case that is \"Covid-19\" which itself is a new term and hence the previously trained word embeddings will be useless. So, what can we possibly do in this case. Well, In my opinion we do have one option and that to replace every \"COVID\" occurance with \"crisis\" ( Just a word for which we have embedding) also we can replace the \"SocialDistancing\" with distancing."
   ]
  },
  {
   "cell_type": "code",
   "execution_count": 21,
   "metadata": {
    "execution": {
     "iopub.execute_input": "2020-10-21T22:23:29.671200Z",
     "iopub.status.busy": "2020-10-21T22:23:29.670444Z",
     "iopub.status.idle": "2020-10-21T22:23:29.675810Z",
     "shell.execute_reply": "2020-10-21T22:23:29.674981Z"
    },
    "papermill": {
     "duration": 0.060146,
     "end_time": "2020-10-21T22:23:29.675998",
     "exception": false,
     "start_time": "2020-10-21T22:23:29.615852",
     "status": "completed"
    },
    "tags": []
   },
   "outputs": [
    {
     "data": {
      "text/plain": [
       "True"
      ]
     },
     "execution_count": 21,
     "metadata": {},
     "output_type": "execute_result"
    }
   ],
   "source": [
    "\"crisis\" in embedding_model"
   ]
  },
  {
   "cell_type": "code",
   "execution_count": 22,
   "metadata": {
    "execution": {
     "iopub.execute_input": "2020-10-21T22:23:29.782411Z",
     "iopub.status.busy": "2020-10-21T22:23:29.781511Z",
     "iopub.status.idle": "2020-10-21T22:23:29.785835Z",
     "shell.execute_reply": "2020-10-21T22:23:29.785341Z"
    },
    "papermill": {
     "duration": 0.059081,
     "end_time": "2020-10-21T22:23:29.785942",
     "exception": false,
     "start_time": "2020-10-21T22:23:29.726861",
     "status": "completed"
    },
    "tags": []
   },
   "outputs": [
    {
     "data": {
      "text/plain": [
       "True"
      ]
     },
     "execution_count": 22,
     "metadata": {},
     "output_type": "execute_result"
    }
   ],
   "source": [
    "\"distancing\" in embedding_model"
   ]
  },
  {
   "cell_type": "markdown",
   "metadata": {
    "papermill": {
     "duration": 0.093062,
     "end_time": "2020-10-21T22:23:29.928432",
     "exception": false,
     "start_time": "2020-10-21T22:23:29.835370",
     "status": "completed"
    },
    "tags": []
   },
   "source": [
    "Before we make these changes let's look at which oov words have a significant length."
   ]
  },
  {
   "cell_type": "code",
   "execution_count": 23,
   "metadata": {
    "execution": {
     "iopub.execute_input": "2020-10-21T22:23:30.032266Z",
     "iopub.status.busy": "2020-10-21T22:23:30.031421Z",
     "iopub.status.idle": "2020-10-21T22:23:30.035741Z",
     "shell.execute_reply": "2020-10-21T22:23:30.035071Z"
    },
    "papermill": {
     "duration": 0.05849,
     "end_time": "2020-10-21T22:23:30.035853",
     "exception": false,
     "start_time": "2020-10-21T22:23:29.977363",
     "status": "completed"
    },
    "tags": []
   },
   "outputs": [
    {
     "data": {
      "text/plain": [
       "52885"
      ]
     },
     "execution_count": 23,
     "metadata": {},
     "output_type": "execute_result"
    }
   ],
   "source": [
    "len(oov)"
   ]
  },
  {
   "cell_type": "code",
   "execution_count": 24,
   "metadata": {
    "_kg_hide-input": true,
    "execution": {
     "iopub.execute_input": "2020-10-21T22:23:30.144486Z",
     "iopub.status.busy": "2020-10-21T22:23:30.143408Z",
     "iopub.status.idle": "2020-10-21T22:23:30.147530Z",
     "shell.execute_reply": "2020-10-21T22:23:30.148269Z"
    },
    "papermill": {
     "duration": 0.062453,
     "end_time": "2020-10-21T22:23:30.148459",
     "exception": false,
     "start_time": "2020-10-21T22:23:30.086006",
     "status": "completed"
    },
    "tags": []
   },
   "outputs": [
    {
     "name": "stdout",
     "output_type": "stream",
     "text": [
      "('COVID', 8581)\n",
      "('COVID19', 3557)\n",
      "('Covid19', 2936)\n",
      "('Covid', 2503)\n",
      "('COVID2019', 1634)\n",
      "('covid19', 1569)\n",
      "('toiletpaper', 1436)\n",
      "('covid', 1197)\n",
      "('CoronaCrisis', 734)\n",
      "('CoronaVirus', 669)\n",
      "('SocialDistancing', 649)\n",
      "('2020', 630)\n",
      "('donÂ', 578)\n",
      "('CoronavirusPandemic', 414)\n",
      "('CoronavirusOutbreak', 400)\n",
      "('canÂ', 370)\n",
      "('StayHomeSaveLives', 345)\n",
      "('StayAtHome', 323)\n",
      "('StayHome', 311)\n",
      "('panicbuying', 309)\n",
      "('youÂ', 296)\n",
      "('socialdistancing', 283)\n",
      "('CoronaVirusUpdate', 281)\n",
      "('StopHoarding', 277)\n",
      "('realDonaldTrump', 247)\n",
      "('StopPanicBuying', 221)\n",
      "('covid19UK', 218)\n",
      "('QuarantineLife', 205)\n",
      "('behaviour', 195)\n",
      "('sainsburys', 193)\n"
     ]
    }
   ],
   "source": [
    "count = 0\n",
    "index = 0\n",
    "\n",
    "while((count != 30) and count < len(oov)):\n",
    "    \n",
    "    if len(oov[index][0]) > 3:\n",
    "        print(oov[index])\n",
    "        count += 1\n",
    "        \n",
    "    index += 1"
   ]
  },
  {
   "cell_type": "markdown",
   "metadata": {
    "papermill": {
     "duration": 0.049759,
     "end_time": "2020-10-21T22:23:30.250480",
     "exception": false,
     "start_time": "2020-10-21T22:23:30.200721",
     "status": "completed"
    },
    "tags": []
   },
   "source": [
    "Oh man I hate cleaning. But well what can I say it's damn important."
   ]
  },
  {
   "cell_type": "code",
   "execution_count": 25,
   "metadata": {
    "execution": {
     "iopub.execute_input": "2020-10-21T22:23:30.360374Z",
     "iopub.status.busy": "2020-10-21T22:23:30.359492Z",
     "iopub.status.idle": "2020-10-21T22:23:30.362315Z",
     "shell.execute_reply": "2020-10-21T22:23:30.361682Z"
    },
    "papermill": {
     "duration": 0.061892,
     "end_time": "2020-10-21T22:23:30.362431",
     "exception": false,
     "start_time": "2020-10-21T22:23:30.300539",
     "status": "completed"
    },
    "tags": []
   },
   "outputs": [],
   "source": [
    "to_replace = [('COVID', 'health crisis'),\n",
    "            ('COVID19', 'health crisis'),\n",
    "            ('Covid19', 'health crisis'),\n",
    "            ('Covid', 'health crisis'),\n",
    "            ('COVID2019', 'health crisis'),\n",
    "            ('covid19', 'health crisis'),\n",
    "            ('toiletpaper', 'toilet paper'),\n",
    "            ('covid', 'health crisis'),\n",
    "            ('CoronaCrisis', 'health crisis'),\n",
    "            ('CoronaVirus', 'health crisis'),\n",
    "            ('SocialDistancing', 'Social distancing'),\n",
    "            ('2020', 'this year'),\n",
    "            ('CoronavirusPandemic', 'health crisis'),\n",
    "            ('CoronavirusOutbreak', 'health crisis'),\n",
    "            ('StayHomeSaveLives', 'Stay Home Save Lives'),\n",
    "            ('StayAtHome', 'Stay At Home'),\n",
    "            ('StayHome', 'Stay Home'),\n",
    "            ('panicbuying', 'Panic Buying'),\n",
    "            ('socialdistancing', 'Social Distancing'),\n",
    "            ('CoronaVirusUpdate', 'health crisis update'),\n",
    "            ('StopHoarding', 'Stop Hoarding'),\n",
    "            ('realDonaldTrump', 'real Donald Trump'),\n",
    "            ('StopPanicBuying', 'Stop Panic Buying'),\n",
    "            ('covid19UK', 'health crisis'),\n",
    "            ('QuarantineLife', 'Quarantine life'),\n",
    "            ('behaviour', 'behave')]"
   ]
  },
  {
   "cell_type": "code",
   "execution_count": 26,
   "metadata": {
    "execution": {
     "iopub.execute_input": "2020-10-21T22:23:30.469281Z",
     "iopub.status.busy": "2020-10-21T22:23:30.468582Z",
     "iopub.status.idle": "2020-10-21T22:23:30.471677Z",
     "shell.execute_reply": "2020-10-21T22:23:30.471049Z"
    },
    "papermill": {
     "duration": 0.058382,
     "end_time": "2020-10-21T22:23:30.471789",
     "exception": false,
     "start_time": "2020-10-21T22:23:30.413407",
     "status": "completed"
    },
    "tags": []
   },
   "outputs": [],
   "source": [
    "to_replace_dict = {}\n",
    "\n",
    "for i in to_replace:\n",
    "    \n",
    "    to_replace_dict[i[0]] = i[1]"
   ]
  },
  {
   "cell_type": "code",
   "execution_count": 27,
   "metadata": {
    "execution": {
     "iopub.execute_input": "2020-10-21T22:23:30.596633Z",
     "iopub.status.busy": "2020-10-21T22:23:30.578720Z",
     "iopub.status.idle": "2020-10-21T22:23:31.177450Z",
     "shell.execute_reply": "2020-10-21T22:23:31.178329Z"
    },
    "papermill": {
     "duration": 0.656086,
     "end_time": "2020-10-21T22:23:31.178529",
     "exception": false,
     "start_time": "2020-10-21T22:23:30.522443",
     "status": "completed"
    },
    "tags": []
   },
   "outputs": [
    {
     "data": {
      "application/vnd.jupyter.widget-view+json": {
       "model_id": "2a97866cd664403282ab95b283ea0b62",
       "version_major": 2,
       "version_minor": 0
      },
      "text/plain": [
       "HBox(children=(FloatProgress(value=1.0, bar_style='info', max=1.0), HTML(value='')))"
      ]
     },
     "metadata": {},
     "output_type": "display_data"
    },
    {
     "name": "stdout",
     "output_type": "stream",
     "text": [
      "\n"
     ]
    }
   ],
   "source": [
    "for index, tweet in tqdm(enumerate(tweets)):\n",
    "    \n",
    "    cleaned_tweet = []\n",
    "    \n",
    "    for word in tweet.split():\n",
    "        \n",
    "        if len(word) > 2:\n",
    "            \n",
    "            if word in to_replace_dict:              \n",
    "                cleaned_tweet.append(to_replace_dict[word])\n",
    "            else:\n",
    "                cleaned_tweet.append(word)\n",
    "                \n",
    "    tweets[index] = ' '.join(cleaned_tweet)"
   ]
  },
  {
   "cell_type": "code",
   "execution_count": 28,
   "metadata": {
    "execution": {
     "iopub.execute_input": "2020-10-21T22:23:31.302254Z",
     "iopub.status.busy": "2020-10-21T22:23:31.297046Z",
     "iopub.status.idle": "2020-10-21T22:23:31.754062Z",
     "shell.execute_reply": "2020-10-21T22:23:31.751331Z"
    },
    "papermill": {
     "duration": 0.522484,
     "end_time": "2020-10-21T22:23:31.754198",
     "exception": false,
     "start_time": "2020-10-21T22:23:31.231714",
     "status": "completed"
    },
    "tags": []
   },
   "outputs": [
    {
     "data": {
      "application/vnd.jupyter.widget-view+json": {
       "model_id": "52c0fb4b125740968f8f7670d9de7c00",
       "version_major": 2,
       "version_minor": 0
      },
      "text/plain": [
       "HBox(children=(FloatProgress(value=0.0, max=41157.0), HTML(value='')))"
      ]
     },
     "metadata": {},
     "output_type": "display_data"
    },
    {
     "name": "stdout",
     "output_type": "stream",
     "text": [
      "\n"
     ]
    }
   ],
   "source": [
    "vocab = build_vocab([tweet.split() for tweet in tweets])"
   ]
  },
  {
   "cell_type": "code",
   "execution_count": 29,
   "metadata": {
    "execution": {
     "iopub.execute_input": "2020-10-21T22:23:31.880234Z",
     "iopub.status.busy": "2020-10-21T22:23:31.879596Z",
     "iopub.status.idle": "2020-10-21T22:23:32.222499Z",
     "shell.execute_reply": "2020-10-21T22:23:32.221943Z"
    },
    "papermill": {
     "duration": 0.416301,
     "end_time": "2020-10-21T22:23:32.222611",
     "exception": false,
     "start_time": "2020-10-21T22:23:31.806310",
     "status": "completed"
    },
    "tags": []
   },
   "outputs": [
    {
     "data": {
      "application/vnd.jupyter.widget-view+json": {
       "model_id": "eee5c51f17394816b196e00f681b307a",
       "version_major": 2,
       "version_minor": 0
      },
      "text/plain": [
       "HBox(children=(FloatProgress(value=0.0, max=93069.0), HTML(value='')))"
      ]
     },
     "metadata": {},
     "output_type": "display_data"
    },
    {
     "name": "stdout",
     "output_type": "stream",
     "text": [
      "\n",
      "Found embeddings for 43.39% of vocab\n",
      "Found embeddings for  88.39% of all text\n"
     ]
    }
   ],
   "source": [
    "oov = check_coverage(vocab,embedding_model)"
   ]
  },
  {
   "cell_type": "markdown",
   "metadata": {
    "papermill": {
     "duration": 0.052152,
     "end_time": "2020-10-21T22:23:32.327861",
     "exception": false,
     "start_time": "2020-10-21T22:23:32.275709",
     "status": "completed"
    },
    "tags": []
   },
   "source": [
    "???? Why are we only at 88%. Let's  look again at our oov words."
   ]
  },
  {
   "cell_type": "code",
   "execution_count": 30,
   "metadata": {
    "_kg_hide-input": true,
    "execution": {
     "iopub.execute_input": "2020-10-21T22:23:32.442519Z",
     "iopub.status.busy": "2020-10-21T22:23:32.441750Z",
     "iopub.status.idle": "2020-10-21T22:23:32.447625Z",
     "shell.execute_reply": "2020-10-21T22:23:32.446849Z"
    },
    "papermill": {
     "duration": 0.065471,
     "end_time": "2020-10-21T22:23:32.447788",
     "exception": false,
     "start_time": "2020-10-21T22:23:32.382317",
     "status": "completed"
    },
    "tags": []
   },
   "outputs": [
    {
     "name": "stdout",
     "output_type": "stream",
     "text": [
      "('donÂ', 578)\n",
      "('canÂ', 370)\n",
      "('youÂ', 296)\n",
      "('sainsburys', 193)\n",
      "('ToiletPaper', 186)\n",
      "('BorisJohnson', 179)\n",
      "('handsanitizer', 177)\n",
      "('theyÂ', 159)\n",
      "('toiletpapercrisis', 158)\n",
      "('ToiletPaperPanic', 156)\n",
      "('coronavirusuk', 151)\n",
      "('staysafe', 140)\n",
      "('stayhome', 135)\n",
      "('panicbuyinguk', 129)\n",
      "('asda', 126)\n",
      "('DonÂ', 125)\n",
      "('CoronavirusLockdown', 121)\n",
      "('doesnÂ', 120)\n",
      "('isnÂ', 117)\n",
      "('wonÂ', 116)\n",
      "('narendramodi', 111)\n",
      "('2019', 111)\n",
      "('CoronavirusUSA', 109)\n",
      "('StaySafe', 108)\n",
      "('arenÂ', 101)\n",
      "('ToiletPaperApocalypse', 99)\n",
      "('cancelled', 99)\n",
      "('didnÂ', 97)\n",
      "('PMOIndia', 96)\n",
      "('SocialDistanacing', 93)\n"
     ]
    }
   ],
   "source": [
    "count = 0\n",
    "index = 0\n",
    "\n",
    "while((count != 30) and count < len(oov)):\n",
    "    \n",
    "    if len(oov[index][0]) > 3:\n",
    "        print(oov[index])\n",
    "        count += 1\n",
    "        \n",
    "    index += 1"
   ]
  },
  {
   "cell_type": "markdown",
   "metadata": {
    "papermill": {
     "duration": 0.052848,
     "end_time": "2020-10-21T22:23:32.555459",
     "exception": false,
     "start_time": "2020-10-21T22:23:32.502611",
     "status": "completed"
    },
    "tags": []
   },
   "source": [
    "OH MAN I HATE THIS. Why can't they just use normal english and use Space between characters. Also as you can see \"can't\" is written as \"canÂ\" and thanks to that I can't use someone else cleaning code. Well, I just want to show you that there are things that you need to take care of."
   ]
  },
  {
   "cell_type": "markdown",
   "metadata": {
    "papermill": {
     "duration": 0.053097,
     "end_time": "2020-10-21T22:23:32.662106",
     "exception": false,
     "start_time": "2020-10-21T22:23:32.609009",
     "status": "completed"
    },
    "tags": []
   },
   "source": [
    "----------------------------------------------------------------------------------------------------------------------------------------------\n",
    "<a id =\"4\" > </a>\n",
    "## 4.Some other examples where embeddings might fail\n",
    "\n",
    "What we have seen is only one use case. Some time ago there was this competition \"Toxic comment classification\" which used many emoticons and some vulgur words and so let's have a look at our embedding and see if we have anything related to that."
   ]
  },
  {
   "cell_type": "markdown",
   "metadata": {
    "papermill": {
     "duration": 0.053052,
     "end_time": "2020-10-21T22:23:32.768265",
     "exception": false,
     "start_time": "2020-10-21T22:23:32.715213",
     "status": "completed"
    },
    "tags": []
   },
   "source": [
    "I apolozise in advance for the mention of these words. I am using them simply to show the importance."
   ]
  },
  {
   "cell_type": "code",
   "execution_count": 31,
   "metadata": {
    "execution": {
     "iopub.execute_input": "2020-10-21T22:23:32.881101Z",
     "iopub.status.busy": "2020-10-21T22:23:32.880353Z",
     "iopub.status.idle": "2020-10-21T22:23:32.883948Z",
     "shell.execute_reply": "2020-10-21T22:23:32.884715Z"
    },
    "papermill": {
     "duration": 0.063478,
     "end_time": "2020-10-21T22:23:32.884906",
     "exception": false,
     "start_time": "2020-10-21T22:23:32.821428",
     "status": "completed"
    },
    "tags": []
   },
   "outputs": [
    {
     "name": "stdout",
     "output_type": "stream",
     "text": [
      "yes\n",
      "yes\n",
      "yes\n",
      "no\n",
      "yes\n",
      "no\n"
     ]
    }
   ],
   "source": [
    "to_check = ['fuck', 'motherfucker', ':)', \":{\", 'bastard', ':(']\n",
    "\n",
    "for i in to_check:\n",
    "    if i in embedding_model:\n",
    "        print('yes')\n",
    "    else:\n",
    "        print('no')"
   ]
  },
  {
   "cell_type": "markdown",
   "metadata": {
    "papermill": {
     "duration": 0.053812,
     "end_time": "2020-10-21T22:23:32.992509",
     "exception": false,
     "start_time": "2020-10-21T22:23:32.938697",
     "status": "completed"
    },
    "tags": []
   },
   "source": [
    "As you can see, we may or may not have embeddings for all the words and especially emoticons and nowdays emoticons are really popular. I would recommend to make your own embeddings as it will have better coverage. One more thing is that you could use the pretrained embeddings and then just finetune them. <br> Also let me show you the good thing about tweet_tokenizer of nltk."
   ]
  },
  {
   "cell_type": "code",
   "execution_count": 32,
   "metadata": {
    "execution": {
     "iopub.execute_input": "2020-10-21T22:23:33.105565Z",
     "iopub.status.busy": "2020-10-21T22:23:33.104828Z",
     "iopub.status.idle": "2020-10-21T22:23:33.108733Z",
     "shell.execute_reply": "2020-10-21T22:23:33.108137Z"
    },
    "papermill": {
     "duration": 0.062699,
     "end_time": "2020-10-21T22:23:33.108847",
     "exception": false,
     "start_time": "2020-10-21T22:23:33.046148",
     "status": "completed"
    },
    "tags": []
   },
   "outputs": [
    {
     "data": {
      "text/plain": [
       "['This', 'word', 'has', 'a', ':)', 'face']"
      ]
     },
     "execution_count": 32,
     "metadata": {},
     "output_type": "execute_result"
    }
   ],
   "source": [
    "TweetTokenizer().tokenize('This word has a :) face')"
   ]
  },
  {
   "cell_type": "markdown",
   "metadata": {
    "papermill": {
     "duration": 0.05763,
     "end_time": "2020-10-21T22:23:33.220895",
     "exception": false,
     "start_time": "2020-10-21T22:23:33.163265",
     "status": "completed"
    },
    "tags": []
   },
   "source": [
    "You see. it recognizes the emoticons and that's really helpful while making embeddings."
   ]
  },
  {
   "cell_type": "markdown",
   "metadata": {
    "papermill": {
     "duration": 0.054353,
     "end_time": "2020-10-21T22:23:33.330131",
     "exception": false,
     "start_time": "2020-10-21T22:23:33.275778",
     "status": "completed"
    },
    "tags": []
   },
   "source": [
    "----------------------------------------------------------------------------------------------------------------------------------------------\n",
    "<a id =\"5\" > </a>\n",
    "## 5.Traditional Data prep and where to use it\n",
    "\n",
    "By now you could be wondering where is all the Stemming, Lemmatization and etc etc. <br>\n",
    "Well the thing is we generally don't need those when using pretrained embeddings. Why so? Well let's have a look. "
   ]
  },
  {
   "cell_type": "code",
   "execution_count": 33,
   "metadata": {
    "_kg_hide-input": true,
    "execution": {
     "iopub.execute_input": "2020-10-21T22:23:33.450074Z",
     "iopub.status.busy": "2020-10-21T22:23:33.449376Z",
     "iopub.status.idle": "2020-10-21T22:23:35.505906Z",
     "shell.execute_reply": "2020-10-21T22:23:35.505407Z"
    },
    "papermill": {
     "duration": 2.118515,
     "end_time": "2020-10-21T22:23:35.506053",
     "exception": false,
     "start_time": "2020-10-21T22:23:33.387538",
     "status": "completed"
    },
    "tags": []
   },
   "outputs": [
    {
     "name": "stdout",
     "output_type": "stream",
     "text": [
      "Stem word:  eleg\n",
      "\n",
      "Lemma:  elegant\n",
      "\n",
      "Is stemmed word present in embedding : False\n",
      "\n",
      "Is lemma present in embedding : True\n"
     ]
    }
   ],
   "source": [
    "from nltk.stem import SnowballStemmer, WordNetLemmatizer\n",
    "\n",
    "word = 'elegant'\n",
    "stem_word = SnowballStemmer('english').stem(word)\n",
    "lemma = WordNetLemmatizer().lemmatize(word)\n",
    "\n",
    "print(\"Stem word: \", stem_word)\n",
    "print(\"\\nLemma: \", lemma)\n",
    "\n",
    "print(\"\\nIs stemmed word present in embedding :\", stem_word in embedding_model)\n",
    "print(\"\\nIs lemma present in embedding :\", lemma in embedding_model)"
   ]
  },
  {
   "cell_type": "markdown",
   "metadata": {
    "papermill": {
     "duration": 0.054034,
     "end_time": "2020-10-21T22:23:35.614585",
     "exception": false,
     "start_time": "2020-10-21T22:23:35.560551",
     "status": "completed"
    },
    "tags": []
   },
   "source": [
    "As you can see eleg is not a word and isn't present in the embedding and hence it will only reduce our coverage. let's have a few more examples for understanding it better."
   ]
  },
  {
   "cell_type": "code",
   "execution_count": 34,
   "metadata": {
    "execution": {
     "iopub.execute_input": "2020-10-21T22:23:35.728905Z",
     "iopub.status.busy": "2020-10-21T22:23:35.728296Z",
     "iopub.status.idle": "2020-10-21T22:23:35.732235Z",
     "shell.execute_reply": "2020-10-21T22:23:35.731672Z"
    },
    "papermill": {
     "duration": 0.063484,
     "end_time": "2020-10-21T22:23:35.732359",
     "exception": false,
     "start_time": "2020-10-21T22:23:35.668875",
     "status": "completed"
    },
    "tags": []
   },
   "outputs": [
    {
     "name": "stdout",
     "output_type": "stream",
     "text": [
      "foot\n",
      "True\n",
      "True\n"
     ]
    }
   ],
   "source": [
    "word1 = 'feet'\n",
    "word2 = 'foot'\n",
    "\n",
    "print(WordNetLemmatizer().lemmatize(word1))\n",
    "\n",
    "print(word1 in embedding_model)\n",
    "print(word2 in embedding_model)"
   ]
  },
  {
   "cell_type": "markdown",
   "metadata": {
    "papermill": {
     "duration": 0.054255,
     "end_time": "2020-10-21T22:23:35.841341",
     "exception": false,
     "start_time": "2020-10-21T22:23:35.787086",
     "status": "completed"
    },
    "tags": []
   },
   "source": [
    "Well as you can see both feet and foot are present in our embedding and so if do lemmatize the word we will lose the availabe variance and hence we should not do that. <br>\n",
    "To be truthful you could try lemmatization and see what results it yields and then choose wheather to use it or not."
   ]
  },
  {
   "cell_type": "markdown",
   "metadata": {
    "papermill": {
     "duration": 0.054398,
     "end_time": "2020-10-21T22:23:35.950696",
     "exception": false,
     "start_time": "2020-10-21T22:23:35.896298",
     "status": "completed"
    },
    "tags": []
   },
   "source": [
    "#### Now the question is where to use this Stemming then ?\n",
    "\n",
    "Well, the answer to that question is not so simple. I will give you 2 places wher you could use Stemming and Lemmmatization. More likely stemming.\n",
    "    * 1) We have small data and the pretrained embeddings doesn't have good vocab coverage ( Also you can search for domain wise\n",
    "    pretrained embeddings and you will likey find one.) or you just don't want to use pretrained embeddings,in such a case stemming will be \n",
    "    very useful as it will provide better vectors for words as after stemming the occurance will be incresed significantly.\n",
    "    \n",
    "    * 2) Instead of using simple embeddings you could use Tf-idf weighted embeddings and can use stemming in the creation of Tf-idf vectors."
   ]
  },
  {
   "cell_type": "markdown",
   "metadata": {
    "papermill": {
     "duration": 0.054565,
     "end_time": "2020-10-21T22:23:36.060064",
     "exception": false,
     "start_time": "2020-10-21T22:23:36.005499",
     "status": "completed"
    },
    "tags": []
   },
   "source": [
    "#### Using tf-idf weighted embeddings you you an extra edge in most of the cases. At least I find so."
   ]
  },
  {
   "cell_type": "markdown",
   "metadata": {
    "papermill": {
     "duration": 0.055728,
     "end_time": "2020-10-21T22:23:36.170398",
     "exception": false,
     "start_time": "2020-10-21T22:23:36.114670",
     "status": "completed"
    },
    "tags": []
   },
   "source": [
    "----------------------------------------------------------------------------------------------------------------------------------------------\n",
    "<a id =\"6\" > </a>\n",
    "## 6.Augmentation\n",
    "\n",
    "Well, this part is really less discussed and I am also not too sure how to deal with it. For all the video and articles/blogs I have read regarding this I found 2 very useful."
   ]
  },
  {
   "cell_type": "markdown",
   "metadata": {
    "papermill": {
     "duration": 0.055053,
     "end_time": "2020-10-21T22:23:36.281400",
     "exception": false,
     "start_time": "2020-10-21T22:23:36.226347",
     "status": "completed"
    },
    "tags": []
   },
   "source": [
    "* 1) Use Synonyms of words and make new sentences by replacing the word by its synonyms.\n",
    "* 2) Convert text into another language and then convert it back again to the original language."
   ]
  },
  {
   "cell_type": "code",
   "execution_count": 35,
   "metadata": {
    "_kg_hide-input": true,
    "_kg_hide-output": true,
    "execution": {
     "iopub.execute_input": "2020-10-21T22:23:36.397936Z",
     "iopub.status.busy": "2020-10-21T22:23:36.397301Z",
     "iopub.status.idle": "2020-10-21T22:23:47.221406Z",
     "shell.execute_reply": "2020-10-21T22:23:47.220730Z"
    },
    "papermill": {
     "duration": 10.885048,
     "end_time": "2020-10-21T22:23:47.221592",
     "exception": false,
     "start_time": "2020-10-21T22:23:36.336544",
     "status": "completed"
    },
    "tags": []
   },
   "outputs": [
    {
     "name": "stdout",
     "output_type": "stream",
     "text": [
      "Collecting nlpaug\r\n",
      "  Downloading nlpaug-1.0.1-py3-none-any.whl (376 kB)\r\n",
      "\u001b[K     |████████████████████████████████| 376 kB 190 kB/s \r\n",
      "\u001b[?25hInstalling collected packages: nlpaug\r\n",
      "Successfully installed nlpaug-1.0.1\r\n",
      "\u001b[33mWARNING: You are using pip version 20.2.3; however, version 20.2.4 is available.\r\n",
      "You should consider upgrading via the '/opt/conda/bin/python3.7 -m pip install --upgrade pip' command.\u001b[0m\r\n"
     ]
    }
   ],
   "source": [
    "!pip install nlpaug"
   ]
  },
  {
   "cell_type": "code",
   "execution_count": 36,
   "metadata": {
    "execution": {
     "iopub.execute_input": "2020-10-21T22:23:47.350199Z",
     "iopub.status.busy": "2020-10-21T22:23:47.349559Z",
     "iopub.status.idle": "2020-10-21T22:23:50.428456Z",
     "shell.execute_reply": "2020-10-21T22:23:50.427864Z"
    },
    "papermill": {
     "duration": 3.145877,
     "end_time": "2020-10-21T22:23:50.428580",
     "exception": false,
     "start_time": "2020-10-21T22:23:47.282703",
     "status": "completed"
    },
    "tags": []
   },
   "outputs": [
    {
     "name": "stderr",
     "output_type": "stream",
     "text": [
      "\u001b[34m\u001b[1mwandb\u001b[0m: \u001b[33mWARNING\u001b[0m W&B installed but not logged in.  Run `wandb login` or set the WANDB_API_KEY env variable.\n"
     ]
    }
   ],
   "source": [
    "import nlpaug.augmenter.word as naw"
   ]
  },
  {
   "cell_type": "code",
   "execution_count": 37,
   "metadata": {
    "_kg_hide-input": true,
    "execution": {
     "iopub.execute_input": "2020-10-21T22:23:50.562760Z",
     "iopub.status.busy": "2020-10-21T22:23:50.561957Z",
     "iopub.status.idle": "2020-10-21T22:23:50.801395Z",
     "shell.execute_reply": "2020-10-21T22:23:50.800637Z"
    },
    "papermill": {
     "duration": 0.307833,
     "end_time": "2020-10-21T22:23:50.801545",
     "exception": false,
     "start_time": "2020-10-21T22:23:50.493712",
     "status": "completed"
    },
    "tags": []
   },
   "outputs": [
    {
     "name": "stdout",
     "output_type": "stream",
     "text": [
      "original:  All month there hasn been crowding the supermarkets restaurants however reducing all the hours and closing the malls means everyone now using the same entrance and dependent single supermarket manila lockdown covid2019 Philippines https tco HxWs9LAnF9\n",
      "\n",
      "Augmented:  All month there hasn follow crowding the supermarket eating house however reducing all the hours and closing the malls means everyone at once practice the like entrance and dependent undivided supermarket manila lockdown covid2019 Philippines https tco HxWs9LAnF9\n"
     ]
    }
   ],
   "source": [
    "sent = 'All month there hasn been crowding the supermarkets restaurants however reducing all the hours and closing the malls means everyone now using the same entrance and dependent single supermarket manila lockdown covid2019 Philippines https tco HxWs9LAnF9'\n",
    "print('original: ', sent)\n",
    "print('\\nAugmented: ', naw.SynonymAug(aug_src='wordnet').augment(sent))"
   ]
  },
  {
   "cell_type": "markdown",
   "metadata": {
    "papermill": {
     "duration": 0.060635,
     "end_time": "2020-10-21T22:23:50.923685",
     "exception": false,
     "start_time": "2020-10-21T22:23:50.863050",
     "status": "completed"
    },
    "tags": []
   },
   "source": [
    "Pretty good write!!! <br>\n",
    "It would be interseting to explore this library further. I will list a few more such libraries : <br>\n",
    "    * textattack\n",
    "    * textaugment"
   ]
  },
  {
   "cell_type": "markdown",
   "metadata": {
    "papermill": {
     "duration": 0.060561,
     "end_time": "2020-10-21T22:23:51.045219",
     "exception": false,
     "start_time": "2020-10-21T22:23:50.984658",
     "status": "completed"
    },
    "tags": []
   },
   "source": [
    "### I would recommend these 2 videos:"
   ]
  },
  {
   "cell_type": "code",
   "execution_count": 38,
   "metadata": {
    "_kg_hide-input": true,
    "execution": {
     "iopub.execute_input": "2020-10-21T22:23:51.181471Z",
     "iopub.status.busy": "2020-10-21T22:23:51.180684Z",
     "iopub.status.idle": "2020-10-21T22:23:51.394615Z",
     "shell.execute_reply": "2020-10-21T22:23:51.394073Z"
    },
    "papermill": {
     "duration": 0.288909,
     "end_time": "2020-10-21T22:23:51.394741",
     "exception": false,
     "start_time": "2020-10-21T22:23:51.105832",
     "status": "completed"
    },
    "tags": []
   },
   "outputs": [
    {
     "data": {
      "image/jpeg": "[encoded data removed]",
      "text/html": [
       "\n",
       "        <iframe\n",
       "            width=\"400\"\n",
       "            height=\"300\"\n",
       "            src=\"https://www.youtube.com/embed/BBR3J2HI5xI\"\n",
       "            frameborder=\"0\"\n",
       "            allowfullscreen\n",
       "        ></iframe>\n",
       "        "
      ],
      "text/plain": [
       "<IPython.lib.display.YouTubeVideo at 0x7f19bbc00d10>"
      ]
     },
     "execution_count": 38,
     "metadata": {},
     "output_type": "execute_result"
    }
   ],
   "source": [
    "YouTubeVideo('BBR3J2HI5xI')"
   ]
  },
  {
   "cell_type": "code",
   "execution_count": 39,
   "metadata": {
    "_kg_hide-input": true,
    "execution": {
     "iopub.execute_input": "2020-10-21T22:23:51.530444Z",
     "iopub.status.busy": "2020-10-21T22:23:51.523249Z",
     "iopub.status.idle": "2020-10-21T22:23:51.764116Z",
     "shell.execute_reply": "2020-10-21T22:23:51.764643Z"
    },
    "papermill": {
     "duration": 0.307666,
     "end_time": "2020-10-21T22:23:51.764787",
     "exception": false,
     "start_time": "2020-10-21T22:23:51.457121",
     "status": "completed"
    },
    "tags": []
   },
   "outputs": [
    {
     "data": {
      "image/jpeg": "[encoded data removed]",
      "text/html": [
       "\n",
       "        <iframe\n",
       "            width=\"400\"\n",
       "            height=\"300\"\n",
       "            src=\"https://www.youtube.com/embed/VpLAjOQHaLU\"\n",
       "            frameborder=\"0\"\n",
       "            allowfullscreen\n",
       "        ></iframe>\n",
       "        "
      ],
      "text/plain": [
       "<IPython.lib.display.YouTubeVideo at 0x7f19b7d0a350>"
      ]
     },
     "execution_count": 39,
     "metadata": {},
     "output_type": "execute_result"
    }
   ],
   "source": [
    "YouTubeVideo('VpLAjOQHaLU')"
   ]
  },
  {
   "cell_type": "markdown",
   "metadata": {
    "papermill": {
     "duration": 0.062739,
     "end_time": "2020-10-21T22:23:51.890480",
     "exception": false,
     "start_time": "2020-10-21T22:23:51.827741",
     "status": "completed"
    },
    "tags": []
   },
   "source": [
    "Now for converting into different language you should see this - https://www.kaggle.com/c/jigsaw-toxic-comment-classification-challenge/discussion/48038"
   ]
  },
  {
   "cell_type": "markdown",
   "metadata": {
    "papermill": {
     "duration": 0.062385,
     "end_time": "2020-10-21T22:23:52.015742",
     "exception": false,
     "start_time": "2020-10-21T22:23:51.953357",
     "status": "completed"
    },
    "tags": []
   },
   "source": [
    "----------------------------------------------------------------------------------------------------------------------------------------------\n",
    "<a id =\"7\" > </a>\n",
    "## 7.Resolving StopWords\n",
    "Well, there's nothing much to say here but a small remainder \"Be careful as 'not' is also a stopword\""
   ]
  },
  {
   "cell_type": "code",
   "execution_count": 40,
   "metadata": {
    "execution": {
     "iopub.execute_input": "2020-10-21T22:23:52.147629Z",
     "iopub.status.busy": "2020-10-21T22:23:52.146899Z",
     "iopub.status.idle": "2020-10-21T22:23:52.154103Z",
     "shell.execute_reply": "2020-10-21T22:23:52.153423Z"
    },
    "papermill": {
     "duration": 0.074873,
     "end_time": "2020-10-21T22:23:52.154223",
     "exception": false,
     "start_time": "2020-10-21T22:23:52.079350",
     "status": "completed"
    },
    "tags": []
   },
   "outputs": [],
   "source": [
    "from nltk.corpus import stopwords\n",
    "stop_words = stopwords.words('english')"
   ]
  },
  {
   "cell_type": "code",
   "execution_count": 41,
   "metadata": {
    "execution": {
     "iopub.execute_input": "2020-10-21T22:23:52.286462Z",
     "iopub.status.busy": "2020-10-21T22:23:52.285745Z",
     "iopub.status.idle": "2020-10-21T22:23:52.289998Z",
     "shell.execute_reply": "2020-10-21T22:23:52.289496Z"
    },
    "papermill": {
     "duration": 0.072008,
     "end_time": "2020-10-21T22:23:52.290116",
     "exception": false,
     "start_time": "2020-10-21T22:23:52.218108",
     "status": "completed"
    },
    "tags": []
   },
   "outputs": [
    {
     "data": {
      "text/plain": [
       "True"
      ]
     },
     "execution_count": 41,
     "metadata": {},
     "output_type": "execute_result"
    }
   ],
   "source": [
    "'not' in stop_words"
   ]
  },
  {
   "cell_type": "markdown",
   "metadata": {
    "papermill": {
     "duration": 0.06388,
     "end_time": "2020-10-21T22:23:52.418836",
     "exception": false,
     "start_time": "2020-10-21T22:23:52.354956",
     "status": "completed"
    },
    "tags": []
   },
   "source": [
    "----------------------------------------------------------------------------------------------------------------------------------------------\n",
    "<a id =\"8\" > </a>\n",
    "## 8.A look at Collection Extraction\n",
    "\n",
    "A good read - https://medium.com/@datamonsters/text-preprocessing-in-python-steps-tools-and-examples-bf025f872908"
   ]
  },
  {
   "cell_type": "code",
   "execution_count": 42,
   "metadata": {
    "execution": {
     "iopub.execute_input": "2020-10-21T22:23:52.551700Z",
     "iopub.status.busy": "2020-10-21T22:23:52.551067Z",
     "iopub.status.idle": "2020-10-21T22:23:52.554545Z",
     "shell.execute_reply": "2020-10-21T22:23:52.555344Z"
    },
    "papermill": {
     "duration": 0.072464,
     "end_time": "2020-10-21T22:23:52.555546",
     "exception": false,
     "start_time": "2020-10-21T22:23:52.483082",
     "status": "completed"
    },
    "tags": []
   },
   "outputs": [
    {
     "name": "stdout",
     "output_type": "stream",
     "text": [
      "False\n",
      "False\n",
      "False\n",
      "False\n",
      "False\n"
     ]
    }
   ],
   "source": [
    "words = ['break the rules', 'free time', 'draw a conclusion', 'keep in mind', 'get ready']\n",
    "\n",
    "for i in words:\n",
    "    \n",
    "    print(i in embedding_model)"
   ]
  },
  {
   "cell_type": "markdown",
   "metadata": {
    "papermill": {
     "duration": 0.063272,
     "end_time": "2020-10-21T22:23:52.682476",
     "exception": false,
     "start_time": "2020-10-21T22:23:52.619204",
     "status": "completed"
    },
    "tags": []
   },
   "source": [
    "You see these are not individual words but have a meaning due to continuty. You will find the solution in the above mentioned read. <br>\n",
    "Also, the n-gram approach of BOW and Tf-idf could be very helpful in this context."
   ]
  },
  {
   "cell_type": "markdown",
   "metadata": {
    "papermill": {
     "duration": 0.063363,
     "end_time": "2020-10-21T22:23:52.809126",
     "exception": false,
     "start_time": "2020-10-21T22:23:52.745763",
     "status": "completed"
    },
    "tags": []
   },
   "source": [
    "----------------------------------------------------------------------------------------------------------------------------------------------\n",
    "<a id =\"9\" > </a>\n",
    "## 9.Similarity Analysis among sentences"
   ]
  },
  {
   "cell_type": "markdown",
   "metadata": {
    "papermill": {
     "duration": 0.063031,
     "end_time": "2020-10-21T22:23:52.935342",
     "exception": false,
     "start_time": "2020-10-21T22:23:52.872311",
     "status": "completed"
    },
    "tags": []
   },
   "source": [
    "USE CASE - A couple years back there was a Competition \"Quora Question Pair Similarity..\" in which we had to predict given 2 questions whether they are simmilar or not and the following features could be very useful."
   ]
  },
  {
   "cell_type": "markdown",
   "metadata": {
    "papermill": {
     "duration": 0.062793,
     "end_time": "2020-10-21T22:23:53.061630",
     "exception": false,
     "start_time": "2020-10-21T22:23:52.998837",
     "status": "completed"
    },
    "tags": []
   },
   "source": [
    "A good look - https://github.com/seatgeek/fuzzywuzzy#usage"
   ]
  },
  {
   "cell_type": "code",
   "execution_count": 43,
   "metadata": {
    "execution": {
     "iopub.execute_input": "2020-10-21T22:23:53.200209Z",
     "iopub.status.busy": "2020-10-21T22:23:53.199183Z",
     "iopub.status.idle": "2020-10-21T22:23:53.217685Z",
     "shell.execute_reply": "2020-10-21T22:23:53.217107Z"
    },
    "papermill": {
     "duration": 0.093166,
     "end_time": "2020-10-21T22:23:53.217824",
     "exception": false,
     "start_time": "2020-10-21T22:23:53.124658",
     "status": "completed"
    },
    "tags": []
   },
   "outputs": [],
   "source": [
    "from fuzzywuzzy import fuzz\n",
    "from fuzzywuzzy import process"
   ]
  },
  {
   "cell_type": "markdown",
   "metadata": {
    "papermill": {
     "duration": 0.071143,
     "end_time": "2020-10-21T22:23:53.364174",
     "exception": false,
     "start_time": "2020-10-21T22:23:53.293031",
     "status": "completed"
    },
    "tags": []
   },
   "source": [
    "### Simple Ratio - How much macthing."
   ]
  },
  {
   "cell_type": "code",
   "execution_count": 44,
   "metadata": {
    "execution": {
     "iopub.execute_input": "2020-10-21T22:23:53.512126Z",
     "iopub.status.busy": "2020-10-21T22:23:53.511196Z",
     "iopub.status.idle": "2020-10-21T22:23:53.515932Z",
     "shell.execute_reply": "2020-10-21T22:23:53.515437Z"
    },
    "papermill": {
     "duration": 0.079651,
     "end_time": "2020-10-21T22:23:53.516072",
     "exception": false,
     "start_time": "2020-10-21T22:23:53.436421",
     "status": "completed"
    },
    "tags": []
   },
   "outputs": [
    {
     "data": {
      "text/plain": [
       "97"
      ]
     },
     "execution_count": 44,
     "metadata": {},
     "output_type": "execute_result"
    }
   ],
   "source": [
    "fuzz.ratio(\"this is a test\", \"this is a test!\")"
   ]
  },
  {
   "cell_type": "markdown",
   "metadata": {
    "papermill": {
     "duration": 0.06464,
     "end_time": "2020-10-21T22:23:53.645392",
     "exception": false,
     "start_time": "2020-10-21T22:23:53.580752",
     "status": "completed"
    },
    "tags": []
   },
   "source": [
    "### Partial Ration - Does it have a partial match"
   ]
  },
  {
   "cell_type": "code",
   "execution_count": 45,
   "metadata": {
    "execution": {
     "iopub.execute_input": "2020-10-21T22:23:53.779873Z",
     "iopub.status.busy": "2020-10-21T22:23:53.779053Z",
     "iopub.status.idle": "2020-10-21T22:23:53.782860Z",
     "shell.execute_reply": "2020-10-21T22:23:53.782333Z"
    },
    "papermill": {
     "duration": 0.072877,
     "end_time": "2020-10-21T22:23:53.782987",
     "exception": false,
     "start_time": "2020-10-21T22:23:53.710110",
     "status": "completed"
    },
    "tags": []
   },
   "outputs": [
    {
     "data": {
      "text/plain": [
       "100"
      ]
     },
     "execution_count": 45,
     "metadata": {},
     "output_type": "execute_result"
    }
   ],
   "source": [
    "fuzz.partial_ratio(\"this is a test\", \"this is a test!\")"
   ]
  },
  {
   "cell_type": "markdown",
   "metadata": {
    "papermill": {
     "duration": 0.067227,
     "end_time": "2020-10-21T22:23:53.918995",
     "exception": false,
     "start_time": "2020-10-21T22:23:53.851768",
     "status": "completed"
    },
    "tags": []
   },
   "source": [
    "### Token Sort Ration - After sorting tokens how much match"
   ]
  },
  {
   "cell_type": "code",
   "execution_count": 46,
   "metadata": {
    "execution": {
     "iopub.execute_input": "2020-10-21T22:23:54.054501Z",
     "iopub.status.busy": "2020-10-21T22:23:54.053664Z",
     "iopub.status.idle": "2020-10-21T22:23:54.057714Z",
     "shell.execute_reply": "2020-10-21T22:23:54.057097Z"
    },
    "papermill": {
     "duration": 0.072952,
     "end_time": "2020-10-21T22:23:54.057828",
     "exception": false,
     "start_time": "2020-10-21T22:23:53.984876",
     "status": "completed"
    },
    "tags": []
   },
   "outputs": [
    {
     "data": {
      "text/plain": [
       "84"
      ]
     },
     "execution_count": 46,
     "metadata": {},
     "output_type": "execute_result"
    }
   ],
   "source": [
    "fuzz.token_sort_ratio(\"fuzzy was a bear\", \"fuzzy fuzzy was a bear\")"
   ]
  },
  {
   "cell_type": "code",
   "execution_count": 47,
   "metadata": {
    "execution": {
     "iopub.execute_input": "2020-10-21T22:23:54.196311Z",
     "iopub.status.busy": "2020-10-21T22:23:54.195375Z",
     "iopub.status.idle": "2020-10-21T22:23:54.199105Z",
     "shell.execute_reply": "2020-10-21T22:23:54.198466Z"
    },
    "papermill": {
     "duration": 0.075923,
     "end_time": "2020-10-21T22:23:54.199233",
     "exception": false,
     "start_time": "2020-10-21T22:23:54.123310",
     "status": "completed"
    },
    "tags": []
   },
   "outputs": [
    {
     "data": {
      "text/plain": [
       "100"
      ]
     },
     "execution_count": 47,
     "metadata": {},
     "output_type": "execute_result"
    }
   ],
   "source": [
    "fuzz.token_set_ratio(\"fuzzy was a bear\", \"fuzzy fuzzy was a bear\")"
   ]
  },
  {
   "cell_type": "markdown",
   "metadata": {
    "papermill": {
     "duration": 0.065773,
     "end_time": "2020-10-21T22:23:54.330670",
     "exception": false,
     "start_time": "2020-10-21T22:23:54.264897",
     "status": "completed"
    },
    "tags": []
   },
   "source": [
    "### Token Set Ratio - Matching Ratio after making a set of tokens"
   ]
  },
  {
   "cell_type": "code",
   "execution_count": 48,
   "metadata": {
    "execution": {
     "iopub.execute_input": "2020-10-21T22:23:54.475921Z",
     "iopub.status.busy": "2020-10-21T22:23:54.475112Z",
     "iopub.status.idle": "2020-10-21T22:23:54.478722Z",
     "shell.execute_reply": "2020-10-21T22:23:54.478196Z"
    },
    "papermill": {
     "duration": 0.077303,
     "end_time": "2020-10-21T22:23:54.478828",
     "exception": false,
     "start_time": "2020-10-21T22:23:54.401525",
     "status": "completed"
    },
    "tags": []
   },
   "outputs": [
    {
     "data": {
      "text/plain": [
       "84"
      ]
     },
     "execution_count": 48,
     "metadata": {},
     "output_type": "execute_result"
    }
   ],
   "source": [
    "fuzz.token_sort_ratio(\"fuzzy was a bear\", \"fuzzy fuzzy was a bear\")"
   ]
  },
  {
   "cell_type": "code",
   "execution_count": 49,
   "metadata": {
    "execution": {
     "iopub.execute_input": "2020-10-21T22:23:54.624369Z",
     "iopub.status.busy": "2020-10-21T22:23:54.623600Z",
     "iopub.status.idle": "2020-10-21T22:23:54.627348Z",
     "shell.execute_reply": "2020-10-21T22:23:54.626827Z"
    },
    "papermill": {
     "duration": 0.078344,
     "end_time": "2020-10-21T22:23:54.627458",
     "exception": false,
     "start_time": "2020-10-21T22:23:54.549114",
     "status": "completed"
    },
    "tags": []
   },
   "outputs": [
    {
     "data": {
      "text/plain": [
       "100"
      ]
     },
     "execution_count": 49,
     "metadata": {},
     "output_type": "execute_result"
    }
   ],
   "source": [
    "fuzz.token_set_ratio(\"fuzzy was a bear\", \"fuzzy fuzzy was a bear\")"
   ]
  },
  {
   "cell_type": "markdown",
   "metadata": {
    "papermill": {
     "duration": 0.065392,
     "end_time": "2020-10-21T22:23:54.759079",
     "exception": false,
     "start_time": "2020-10-21T22:23:54.693687",
     "status": "completed"
    },
    "tags": []
   },
   "source": [
    "<font color=\"red\" size=3>Please upvote this kernel if you like it. It motivates me to produce more quality content :)</font>"
   ]
  }
 ],
 "metadata": {
  "kernelspec": {
   "display_name": "Python 3",
   "language": "python",
   "name": "python3"
  },
  "language_info": {
   "codemirror_mode": {
    "name": "ipython",
    "version": 3
   },
   "file_extension": ".py",
   "mimetype": "text/x-python",
   "name": "python",
   "nbconvert_exporter": "python",
   "pygments_lexer": "ipython3",
   "version": "3.7.6"
  },
  "papermill": {
   "duration": 79.698745,
   "end_time": "2020-10-21T22:23:55.134269",
   "environment_variables": {},
   "exception": null,
   "input_path": "__notebook__.ipynb",
   "output_path": "__notebook__.ipynb",
   "parameters": {},
   "start_time": "2020-10-21T22:22:35.435524",
   "version": "2.1.0"
  },
  "widgets": {
   "application/vnd.jupyter.widget-state+json": {
    "state": {
     "02f080e8af434354ba105edeff8188c3": {
      "model_module": "@jupyter-widgets/controls",
      "model_module_version": "1.5.0",
      "model_name": "ProgressStyleModel",
      "state": {
       "_model_module": "@jupyter-widgets/controls",
       "_model_module_version": "1.5.0",
       "_model_name": "ProgressStyleModel",
       "_view_count": null,
       "_view_module": "@jupyter-widgets/base",
       "_view_module_version": "1.2.0",
       "_view_name": "StyleView",
       "bar_color": null,
       "description_width": "initial"
      }
     },
     "06e7684b198c4a0c8614e3f0704cbf5c": {
      "model_module": "@jupyter-widgets/base",
      "model_module_version": "1.2.0",
      "model_name": "LayoutModel",
      "state": {
       "_model_module": "@jupyter-widgets/base",
       "_model_module_version": "1.2.0",
       "_model_name": "LayoutModel",
       "_view_count": null,
       "_view_module": "@jupyter-widgets/base",
       "_view_module_version": "1.2.0",
       "_view_name": "LayoutView",
       "align_content": null,
       "align_items": null,
       "align_self": null,
       "border": null,
       "bottom": null,
       "display": null,
       "flex": null,
       "flex_flow": null,
       "grid_area": null,
       "grid_auto_columns": null,
       "grid_auto_flow": null,
       "grid_auto_rows": null,
       "grid_column": null,
       "grid_gap": null,
       "grid_row": null,
       "grid_template_areas": null,
       "grid_template_columns": null,
       "grid_template_rows": null,
       "height": null,
       "justify_content": null,
       "justify_items": null,
       "left": null,
       "margin": null,
       "max_height": null,
       "max_width": null,
       "min_height": null,
       "min_width": null,
       "object_fit": null,
       "object_position": null,
       "order": null,
       "overflow": null,
       "overflow_x": null,
       "overflow_y": null,
       "padding": null,
       "right": null,
       "top": null,
       "visibility": null,
       "width": null
      }
     },
     "073796bbb25444bc9e4cecfcaed481a3": {
      "model_module": "@jupyter-widgets/base",
      "model_module_version": "1.2.0",
      "model_name": "LayoutModel",
      "state": {
       "_model_module": "@jupyter-widgets/base",
       "_model_module_version": "1.2.0",
       "_model_name": "LayoutModel",
       "_view_count": null,
       "_view_module": "@jupyter-widgets/base",
       "_view_module_version": "1.2.0",
       "_view_name": "LayoutView",
       "align_content": null,
       "align_items": null,
       "align_self": null,
       "border": null,
       "bottom": null,
       "display": null,
       "flex": null,
       "flex_flow": null,
       "grid_area": null,
       "grid_auto_columns": null,
       "grid_auto_flow": null,
       "grid_auto_rows": null,
       "grid_column": null,
       "grid_gap": null,
       "grid_row": null,
       "grid_template_areas": null,
       "grid_template_columns": null,
       "grid_template_rows": null,
       "height": null,
       "justify_content": null,
       "justify_items": null,
       "left": null,
       "margin": null,
       "max_height": null,
       "max_width": null,
       "min_height": null,
       "min_width": null,
       "object_fit": null,
       "object_position": null,
       "order": null,
       "overflow": null,
       "overflow_x": null,
       "overflow_y": null,
       "padding": null,
       "right": null,
       "top": null,
       "visibility": null,
       "width": null
      }
     },
     "0b514c36c80e419691ffe8b44c0bc152": {
      "model_module": "@jupyter-widgets/base",
      "model_module_version": "1.2.0",
      "model_name": "LayoutModel",
      "state": {
       "_model_module": "@jupyter-widgets/base",
       "_model_module_version": "1.2.0",
       "_model_name": "LayoutModel",
       "_view_count": null,
       "_view_module": "@jupyter-widgets/base",
       "_view_module_version": "1.2.0",
       "_view_name": "LayoutView",
       "align_content": null,
       "align_items": null,
       "align_self": null,
       "border": null,
       "bottom": null,
       "display": null,
       "flex": null,
       "flex_flow": null,
       "grid_area": null,
       "grid_auto_columns": null,
       "grid_auto_flow": null,
       "grid_auto_rows": null,
       "grid_column": null,
       "grid_gap": null,
       "grid_row": null,
       "grid_template_areas": null,
       "grid_template_columns": null,
       "grid_template_rows": null,
       "height": null,
       "justify_content": null,
       "justify_items": null,
       "left": null,
       "margin": null,
       "max_height": null,
       "max_width": null,
       "min_height": null,
       "min_width": null,
       "object_fit": null,
       "object_position": null,
       "order": null,
       "overflow": null,
       "overflow_x": null,
       "overflow_y": null,
       "padding": null,
       "right": null,
       "top": null,
       "visibility": null,
       "width": null
      }
     },
     "12e936e1a0be49e285dad2b22a7ab4ca": {
      "model_module": "@jupyter-widgets/base",
      "model_module_version": "1.2.0",
      "model_name": "LayoutModel",
      "state": {
       "_model_module": "@jupyter-widgets/base",
       "_model_module_version": "1.2.0",
       "_model_name": "LayoutModel",
       "_view_count": null,
       "_view_module": "@jupyter-widgets/base",
       "_view_module_version": "1.2.0",
       "_view_name": "LayoutView",
       "align_content": null,
       "align_items": null,
       "align_self": null,
       "border": null,
       "bottom": null,
       "display": null,
       "flex": null,
       "flex_flow": null,
       "grid_area": null,
       "grid_auto_columns": null,
       "grid_auto_flow": null,
       "grid_auto_rows": null,
       "grid_column": null,
       "grid_gap": null,
       "grid_row": null,
       "grid_template_areas": null,
       "grid_template_columns": null,
       "grid_template_rows": null,
       "height": null,
       "justify_content": null,
       "justify_items": null,
       "left": null,
       "margin": null,
       "max_height": null,
       "max_width": null,
       "min_height": null,
       "min_width": null,
       "object_fit": null,
       "object_position": null,
       "order": null,
       "overflow": null,
       "overflow_x": null,
       "overflow_y": null,
       "padding": null,
       "right": null,
       "top": null,
       "visibility": null,
       "width": null
      }
     },
     "199ce2b1f6b843029715a6dacab116bb": {
      "model_module": "@jupyter-widgets/controls",
      "model_module_version": "1.5.0",
      "model_name": "FloatProgressModel",
      "state": {
       "_dom_classes": [],
       "_model_module": "@jupyter-widgets/controls",
       "_model_module_version": "1.5.0",
       "_model_name": "FloatProgressModel",
       "_view_count": null,
       "_view_module": "@jupyter-widgets/controls",
       "_view_module_version": "1.5.0",
       "_view_name": "ProgressView",
       "bar_style": "success",
       "description": "100%",
       "description_tooltip": null,
       "layout": "IPY_MODEL_12e936e1a0be49e285dad2b22a7ab4ca",
       "max": 41157.0,
       "min": 0.0,
       "orientation": "horizontal",
       "style": "IPY_MODEL_2ee1641844e54522a86744de1c70119f",
       "value": 41157.0
      }
     },
     "1fd76bdad4c54d988e233f3a01303399": {
      "model_module": "@jupyter-widgets/base",
      "model_module_version": "1.2.0",
      "model_name": "LayoutModel",
      "state": {
       "_model_module": "@jupyter-widgets/base",
       "_model_module_version": "1.2.0",
       "_model_name": "LayoutModel",
       "_view_count": null,
       "_view_module": "@jupyter-widgets/base",
       "_view_module_version": "1.2.0",
       "_view_name": "LayoutView",
       "align_content": null,
       "align_items": null,
       "align_self": null,
       "border": null,
       "bottom": null,
       "display": null,
       "flex": null,
       "flex_flow": null,
       "grid_area": null,
       "grid_auto_columns": null,
       "grid_auto_flow": null,
       "grid_auto_rows": null,
       "grid_column": null,
       "grid_gap": null,
       "grid_row": null,
       "grid_template_areas": null,
       "grid_template_columns": null,
       "grid_template_rows": null,
       "height": null,
       "justify_content": null,
       "justify_items": null,
       "left": null,
       "margin": null,
       "max_height": null,
       "max_width": null,
       "min_height": null,
       "min_width": null,
       "object_fit": null,
       "object_position": null,
       "order": null,
       "overflow": null,
       "overflow_x": null,
       "overflow_y": null,
       "padding": null,
       "right": null,
       "top": null,
       "visibility": null,
       "width": null
      }
     },
     "202d1721b2c14510aefb11e484596823": {
      "model_module": "@jupyter-widgets/base",
      "model_module_version": "1.2.0",
      "model_name": "LayoutModel",
      "state": {
       "_model_module": "@jupyter-widgets/base",
       "_model_module_version": "1.2.0",
       "_model_name": "LayoutModel",
       "_view_count": null,
       "_view_module": "@jupyter-widgets/base",
       "_view_module_version": "1.2.0",
       "_view_name": "LayoutView",
       "align_content": null,
       "align_items": null,
       "align_self": null,
       "border": null,
       "bottom": null,
       "display": null,
       "flex": null,
       "flex_flow": null,
       "grid_area": null,
       "grid_auto_columns": null,
       "grid_auto_flow": null,
       "grid_auto_rows": null,
       "grid_column": null,
       "grid_gap": null,
       "grid_row": null,
       "grid_template_areas": null,
       "grid_template_columns": null,
       "grid_template_rows": null,
       "height": null,
       "justify_content": null,
       "justify_items": null,
       "left": null,
       "margin": null,
       "max_height": null,
       "max_width": null,
       "min_height": null,
       "min_width": null,
       "object_fit": null,
       "object_position": null,
       "order": null,
       "overflow": null,
       "overflow_x": null,
       "overflow_y": null,
       "padding": null,
       "right": null,
       "top": null,
       "visibility": null,
       "width": null
      }
     },
     "21726ffff8884ec08a1e66d169c1da08": {
      "model_module": "@jupyter-widgets/controls",
      "model_module_version": "1.5.0",
      "model_name": "HTMLModel",
      "state": {
       "_dom_classes": [],
       "_model_module": "@jupyter-widgets/controls",
       "_model_module_version": "1.5.0",
       "_model_name": "HTMLModel",
       "_view_count": null,
       "_view_module": "@jupyter-widgets/controls",
       "_view_module_version": "1.5.0",
       "_view_name": "HTMLView",
       "description": "",
       "description_tooltip": null,
       "layout": "IPY_MODEL_fd932748155b40a889038f684c92924e",
       "placeholder": "​",
       "style": "IPY_MODEL_a211d739558142468997f8cc41b6a446",
       "value": " 103040/103040 [00:00&lt;00:00, 309991.67it/s]"
      }
     },
     "23c1f3fdffeb4272ac141e404ad0ee3a": {
      "model_module": "@jupyter-widgets/controls",
      "model_module_version": "1.5.0",
      "model_name": "HBoxModel",
      "state": {
       "_dom_classes": [],
       "_model_module": "@jupyter-widgets/controls",
       "_model_module_version": "1.5.0",
       "_model_name": "HBoxModel",
       "_view_count": null,
       "_view_module": "@jupyter-widgets/controls",
       "_view_module_version": "1.5.0",
       "_view_name": "HBoxView",
       "box_style": "",
       "children": [
        "IPY_MODEL_eb0fde215c034615ad7ccafafa163161",
        "IPY_MODEL_21726ffff8884ec08a1e66d169c1da08"
       ],
       "layout": "IPY_MODEL_fc3a28a9b93d494da394474963b78293"
      }
     },
     "2a97866cd664403282ab95b283ea0b62": {
      "model_module": "@jupyter-widgets/controls",
      "model_module_version": "1.5.0",
      "model_name": "HBoxModel",
      "state": {
       "_dom_classes": [],
       "_model_module": "@jupyter-widgets/controls",
       "_model_module_version": "1.5.0",
       "_model_name": "HBoxModel",
       "_view_count": null,
       "_view_module": "@jupyter-widgets/controls",
       "_view_module_version": "1.5.0",
       "_view_name": "HBoxView",
       "box_style": "",
       "children": [
        "IPY_MODEL_4889a131ef7045c9aa2fe03037a5263f",
        "IPY_MODEL_e1b0283ac2264efea50e304c4bcda5a8"
       ],
       "layout": "IPY_MODEL_202d1721b2c14510aefb11e484596823"
      }
     },
     "2ee1641844e54522a86744de1c70119f": {
      "model_module": "@jupyter-widgets/controls",
      "model_module_version": "1.5.0",
      "model_name": "ProgressStyleModel",
      "state": {
       "_model_module": "@jupyter-widgets/controls",
       "_model_module_version": "1.5.0",
       "_model_name": "ProgressStyleModel",
       "_view_count": null,
       "_view_module": "@jupyter-widgets/base",
       "_view_module_version": "1.2.0",
       "_view_name": "StyleView",
       "bar_color": null,
       "description_width": "initial"
      }
     },
     "2f0a63d53ba844a78e5862282d59c931": {
      "model_module": "@jupyter-widgets/base",
      "model_module_version": "1.2.0",
      "model_name": "LayoutModel",
      "state": {
       "_model_module": "@jupyter-widgets/base",
       "_model_module_version": "1.2.0",
       "_model_name": "LayoutModel",
       "_view_count": null,
       "_view_module": "@jupyter-widgets/base",
       "_view_module_version": "1.2.0",
       "_view_name": "LayoutView",
       "align_content": null,
       "align_items": null,
       "align_self": null,
       "border": null,
       "bottom": null,
       "display": null,
       "flex": null,
       "flex_flow": null,
       "grid_area": null,
       "grid_auto_columns": null,
       "grid_auto_flow": null,
       "grid_auto_rows": null,
       "grid_column": null,
       "grid_gap": null,
       "grid_row": null,
       "grid_template_areas": null,
       "grid_template_columns": null,
       "grid_template_rows": null,
       "height": null,
       "justify_content": null,
       "justify_items": null,
       "left": null,
       "margin": null,
       "max_height": null,
       "max_width": null,
       "min_height": null,
       "min_width": null,
       "object_fit": null,
       "object_position": null,
       "order": null,
       "overflow": null,
       "overflow_x": null,
       "overflow_y": null,
       "padding": null,
       "right": null,
       "top": null,
       "visibility": null,
       "width": null
      }
     },
     "35803955fe9a47cc88f509e902d8396f": {
      "model_module": "@jupyter-widgets/controls",
      "model_module_version": "1.5.0",
      "model_name": "HBoxModel",
      "state": {
       "_dom_classes": [],
       "_model_module": "@jupyter-widgets/controls",
       "_model_module_version": "1.5.0",
       "_model_name": "HBoxModel",
       "_view_count": null,
       "_view_module": "@jupyter-widgets/controls",
       "_view_module_version": "1.5.0",
       "_view_name": "HBoxView",
       "box_style": "",
       "children": [
        "IPY_MODEL_7046158251c24993a418506f97a887aa",
        "IPY_MODEL_a3f5824585ac45f3976c69e7e164c791"
       ],
       "layout": "IPY_MODEL_846ac068452e4571826ab9c3271ddfc7"
      }
     },
     "35974c21654b4d54b6dc8ac744687b7b": {
      "model_module": "@jupyter-widgets/controls",
      "model_module_version": "1.5.0",
      "model_name": "HTMLModel",
      "state": {
       "_dom_classes": [],
       "_model_module": "@jupyter-widgets/controls",
       "_model_module_version": "1.5.0",
       "_model_name": "HTMLModel",
       "_view_count": null,
       "_view_module": "@jupyter-widgets/controls",
       "_view_module_version": "1.5.0",
       "_view_name": "HTMLView",
       "description": "",
       "description_tooltip": null,
       "layout": "IPY_MODEL_a1c4d475493e4f469a1eef8dac75306c",
       "placeholder": "​",
       "style": "IPY_MODEL_3ad396f888a84e0b8c999112571b46b1",
       "value": " 41157/41157 [00:00&lt;00:00, 53681.22it/s]"
      }
     },
     "36a466bdfcd84f08b21040f0a177fc36": {
      "model_module": "@jupyter-widgets/controls",
      "model_module_version": "1.5.0",
      "model_name": "HTMLModel",
      "state": {
       "_dom_classes": [],
       "_model_module": "@jupyter-widgets/controls",
       "_model_module_version": "1.5.0",
       "_model_name": "HTMLModel",
       "_view_count": null,
       "_view_module": "@jupyter-widgets/controls",
       "_view_module_version": "1.5.0",
       "_view_name": "HTMLView",
       "description": "",
       "description_tooltip": null,
       "layout": "IPY_MODEL_06e7684b198c4a0c8614e3f0704cbf5c",
       "placeholder": "​",
       "style": "IPY_MODEL_5187a14cf21b483da798d7768f4bf9ad",
       "value": " 93069/93069 [00:00&lt;00:00, 307708.55it/s]"
      }
     },
     "3ad396f888a84e0b8c999112571b46b1": {
      "model_module": "@jupyter-widgets/controls",
      "model_module_version": "1.5.0",
      "model_name": "DescriptionStyleModel",
      "state": {
       "_model_module": "@jupyter-widgets/controls",
       "_model_module_version": "1.5.0",
       "_model_name": "DescriptionStyleModel",
       "_view_count": null,
       "_view_module": "@jupyter-widgets/base",
       "_view_module_version": "1.2.0",
       "_view_name": "StyleView",
       "description_width": ""
      }
     },
     "4617816de59447b789fdc8f601123cd5": {
      "model_module": "@jupyter-widgets/controls",
      "model_module_version": "1.5.0",
      "model_name": "FloatProgressModel",
      "state": {
       "_dom_classes": [],
       "_model_module": "@jupyter-widgets/controls",
       "_model_module_version": "1.5.0",
       "_model_name": "FloatProgressModel",
       "_view_count": null,
       "_view_module": "@jupyter-widgets/controls",
       "_view_module_version": "1.5.0",
       "_view_name": "ProgressView",
       "bar_style": "success",
       "description": "100%",
       "description_tooltip": null,
       "layout": "IPY_MODEL_9a5b427604cb4e16a67799238f8ae5ce",
       "max": 41157.0,
       "min": 0.0,
       "orientation": "horizontal",
       "style": "IPY_MODEL_72e8c24fe1cc42d088c514c260853169",
       "value": 41157.0
      }
     },
     "4889a131ef7045c9aa2fe03037a5263f": {
      "model_module": "@jupyter-widgets/controls",
      "model_module_version": "1.5.0",
      "model_name": "FloatProgressModel",
      "state": {
       "_dom_classes": [],
       "_model_module": "@jupyter-widgets/controls",
       "_model_module_version": "1.5.0",
       "_model_name": "FloatProgressModel",
       "_view_count": null,
       "_view_module": "@jupyter-widgets/controls",
       "_view_module_version": "1.5.0",
       "_view_name": "ProgressView",
       "bar_style": "success",
       "description": "",
       "description_tooltip": null,
       "layout": "IPY_MODEL_d9a110673d364e62b3f6ae28ebb484bd",
       "max": 1.0,
       "min": 0.0,
       "orientation": "horizontal",
       "style": "IPY_MODEL_b959239f029a4e489c7b408ee969f553",
       "value": 1.0
      }
     },
     "5187a14cf21b483da798d7768f4bf9ad": {
      "model_module": "@jupyter-widgets/controls",
      "model_module_version": "1.5.0",
      "model_name": "DescriptionStyleModel",
      "state": {
       "_model_module": "@jupyter-widgets/controls",
       "_model_module_version": "1.5.0",
       "_model_name": "DescriptionStyleModel",
       "_view_count": null,
       "_view_module": "@jupyter-widgets/base",
       "_view_module_version": "1.2.0",
       "_view_name": "StyleView",
       "description_width": ""
      }
     },
     "52c0fb4b125740968f8f7670d9de7c00": {
      "model_module": "@jupyter-widgets/controls",
      "model_module_version": "1.5.0",
      "model_name": "HBoxModel",
      "state": {
       "_dom_classes": [],
       "_model_module": "@jupyter-widgets/controls",
       "_model_module_version": "1.5.0",
       "_model_name": "HBoxModel",
       "_view_count": null,
       "_view_module": "@jupyter-widgets/controls",
       "_view_module_version": "1.5.0",
       "_view_name": "HBoxView",
       "box_style": "",
       "children": [
        "IPY_MODEL_199ce2b1f6b843029715a6dacab116bb",
        "IPY_MODEL_35974c21654b4d54b6dc8ac744687b7b"
       ],
       "layout": "IPY_MODEL_0b514c36c80e419691ffe8b44c0bc152"
      }
     },
     "59404f7e8d1945f89e0de3b25471fa09": {
      "model_module": "@jupyter-widgets/controls",
      "model_module_version": "1.5.0",
      "model_name": "DescriptionStyleModel",
      "state": {
       "_model_module": "@jupyter-widgets/controls",
       "_model_module_version": "1.5.0",
       "_model_name": "DescriptionStyleModel",
       "_view_count": null,
       "_view_module": "@jupyter-widgets/base",
       "_view_module_version": "1.2.0",
       "_view_name": "StyleView",
       "description_width": ""
      }
     },
     "5a2f8173a10c4bd0a5110b4e18a75fe2": {
      "model_module": "@jupyter-widgets/controls",
      "model_module_version": "1.5.0",
      "model_name": "ProgressStyleModel",
      "state": {
       "_model_module": "@jupyter-widgets/controls",
       "_model_module_version": "1.5.0",
       "_model_name": "ProgressStyleModel",
       "_view_count": null,
       "_view_module": "@jupyter-widgets/base",
       "_view_module_version": "1.2.0",
       "_view_name": "StyleView",
       "bar_color": null,
       "description_width": "initial"
      }
     },
     "5ada4db3fd1342f5a1e5c5d60c5a7349": {
      "model_module": "@jupyter-widgets/controls",
      "model_module_version": "1.5.0",
      "model_name": "ProgressStyleModel",
      "state": {
       "_model_module": "@jupyter-widgets/controls",
       "_model_module_version": "1.5.0",
       "_model_name": "ProgressStyleModel",
       "_view_count": null,
       "_view_module": "@jupyter-widgets/base",
       "_view_module_version": "1.2.0",
       "_view_name": "StyleView",
       "bar_color": null,
       "description_width": "initial"
      }
     },
     "5edce4395dee47ca8f080f5f80e7ec45": {
      "model_module": "@jupyter-widgets/controls",
      "model_module_version": "1.5.0",
      "model_name": "DescriptionStyleModel",
      "state": {
       "_model_module": "@jupyter-widgets/controls",
       "_model_module_version": "1.5.0",
       "_model_name": "DescriptionStyleModel",
       "_view_count": null,
       "_view_module": "@jupyter-widgets/base",
       "_view_module_version": "1.2.0",
       "_view_name": "StyleView",
       "description_width": ""
      }
     },
     "62422f25182340a7aea30e5911f877ed": {
      "model_module": "@jupyter-widgets/controls",
      "model_module_version": "1.5.0",
      "model_name": "ProgressStyleModel",
      "state": {
       "_model_module": "@jupyter-widgets/controls",
       "_model_module_version": "1.5.0",
       "_model_name": "ProgressStyleModel",
       "_view_count": null,
       "_view_module": "@jupyter-widgets/base",
       "_view_module_version": "1.2.0",
       "_view_name": "StyleView",
       "bar_color": null,
       "description_width": "initial"
      }
     },
     "63df910288d7413a9370cbc9af859138": {
      "model_module": "@jupyter-widgets/controls",
      "model_module_version": "1.5.0",
      "model_name": "DescriptionStyleModel",
      "state": {
       "_model_module": "@jupyter-widgets/controls",
       "_model_module_version": "1.5.0",
       "_model_name": "DescriptionStyleModel",
       "_view_count": null,
       "_view_module": "@jupyter-widgets/base",
       "_view_module_version": "1.2.0",
       "_view_name": "StyleView",
       "description_width": ""
      }
     },
     "65369ae0748c4265939da9ba93990bb2": {
      "model_module": "@jupyter-widgets/controls",
      "model_module_version": "1.5.0",
      "model_name": "HBoxModel",
      "state": {
       "_dom_classes": [],
       "_model_module": "@jupyter-widgets/controls",
       "_model_module_version": "1.5.0",
       "_model_name": "HBoxModel",
       "_view_count": null,
       "_view_module": "@jupyter-widgets/controls",
       "_view_module_version": "1.5.0",
       "_view_name": "HBoxView",
       "box_style": "",
       "children": [
        "IPY_MODEL_4617816de59447b789fdc8f601123cd5",
        "IPY_MODEL_acb4cee50e904725aad4d206e045fa2e"
       ],
       "layout": "IPY_MODEL_1fd76bdad4c54d988e233f3a01303399"
      }
     },
     "7046158251c24993a418506f97a887aa": {
      "model_module": "@jupyter-widgets/controls",
      "model_module_version": "1.5.0",
      "model_name": "FloatProgressModel",
      "state": {
       "_dom_classes": [],
       "_model_module": "@jupyter-widgets/controls",
       "_model_module_version": "1.5.0",
       "_model_name": "FloatProgressModel",
       "_view_count": null,
       "_view_module": "@jupyter-widgets/controls",
       "_view_module_version": "1.5.0",
       "_view_name": "ProgressView",
       "bar_style": "success",
       "description": "100%",
       "description_tooltip": null,
       "layout": "IPY_MODEL_e199b48535224fc5a03609120477b919",
       "max": 41157.0,
       "min": 0.0,
       "orientation": "horizontal",
       "style": "IPY_MODEL_5ada4db3fd1342f5a1e5c5d60c5a7349",
       "value": 41157.0
      }
     },
     "72e8c24fe1cc42d088c514c260853169": {
      "model_module": "@jupyter-widgets/controls",
      "model_module_version": "1.5.0",
      "model_name": "ProgressStyleModel",
      "state": {
       "_model_module": "@jupyter-widgets/controls",
       "_model_module_version": "1.5.0",
       "_model_name": "ProgressStyleModel",
       "_view_count": null,
       "_view_module": "@jupyter-widgets/base",
       "_view_module_version": "1.2.0",
       "_view_name": "StyleView",
       "bar_color": null,
       "description_width": "initial"
      }
     },
     "73e9ec54c5864c2ba04db33fadbd86d0": {
      "model_module": "@jupyter-widgets/base",
      "model_module_version": "1.2.0",
      "model_name": "LayoutModel",
      "state": {
       "_model_module": "@jupyter-widgets/base",
       "_model_module_version": "1.2.0",
       "_model_name": "LayoutModel",
       "_view_count": null,
       "_view_module": "@jupyter-widgets/base",
       "_view_module_version": "1.2.0",
       "_view_name": "LayoutView",
       "align_content": null,
       "align_items": null,
       "align_self": null,
       "border": null,
       "bottom": null,
       "display": null,
       "flex": null,
       "flex_flow": null,
       "grid_area": null,
       "grid_auto_columns": null,
       "grid_auto_flow": null,
       "grid_auto_rows": null,
       "grid_column": null,
       "grid_gap": null,
       "grid_row": null,
       "grid_template_areas": null,
       "grid_template_columns": null,
       "grid_template_rows": null,
       "height": null,
       "justify_content": null,
       "justify_items": null,
       "left": null,
       "margin": null,
       "max_height": null,
       "max_width": null,
       "min_height": null,
       "min_width": null,
       "object_fit": null,
       "object_position": null,
       "order": null,
       "overflow": null,
       "overflow_x": null,
       "overflow_y": null,
       "padding": null,
       "right": null,
       "top": null,
       "visibility": null,
       "width": null
      }
     },
     "758fa838db37407686ef99e5dbdf0c8f": {
      "model_module": "@jupyter-widgets/controls",
      "model_module_version": "1.5.0",
      "model_name": "FloatProgressModel",
      "state": {
       "_dom_classes": [],
       "_model_module": "@jupyter-widgets/controls",
       "_model_module_version": "1.5.0",
       "_model_name": "FloatProgressModel",
       "_view_count": null,
       "_view_module": "@jupyter-widgets/controls",
       "_view_module_version": "1.5.0",
       "_view_name": "ProgressView",
       "bar_style": "success",
       "description": "100%",
       "description_tooltip": null,
       "layout": "IPY_MODEL_8054d8d1bf0b42368a3a4b3de880f8c4",
       "max": 41157.0,
       "min": 0.0,
       "orientation": "horizontal",
       "style": "IPY_MODEL_02f080e8af434354ba105edeff8188c3",
       "value": 41157.0
      }
     },
     "8054d8d1bf0b42368a3a4b3de880f8c4": {
      "model_module": "@jupyter-widgets/base",
      "model_module_version": "1.2.0",
      "model_name": "LayoutModel",
      "state": {
       "_model_module": "@jupyter-widgets/base",
       "_model_module_version": "1.2.0",
       "_model_name": "LayoutModel",
       "_view_count": null,
       "_view_module": "@jupyter-widgets/base",
       "_view_module_version": "1.2.0",
       "_view_name": "LayoutView",
       "align_content": null,
       "align_items": null,
       "align_self": null,
       "border": null,
       "bottom": null,
       "display": null,
       "flex": null,
       "flex_flow": null,
       "grid_area": null,
       "grid_auto_columns": null,
       "grid_auto_flow": null,
       "grid_auto_rows": null,
       "grid_column": null,
       "grid_gap": null,
       "grid_row": null,
       "grid_template_areas": null,
       "grid_template_columns": null,
       "grid_template_rows": null,
       "height": null,
       "justify_content": null,
       "justify_items": null,
       "left": null,
       "margin": null,
       "max_height": null,
       "max_width": null,
       "min_height": null,
       "min_width": null,
       "object_fit": null,
       "object_position": null,
       "order": null,
       "overflow": null,
       "overflow_x": null,
       "overflow_y": null,
       "padding": null,
       "right": null,
       "top": null,
       "visibility": null,
       "width": null
      }
     },
     "845aedd433374bef8f15633087af49ad": {
      "model_module": "@jupyter-widgets/base",
      "model_module_version": "1.2.0",
      "model_name": "LayoutModel",
      "state": {
       "_model_module": "@jupyter-widgets/base",
       "_model_module_version": "1.2.0",
       "_model_name": "LayoutModel",
       "_view_count": null,
       "_view_module": "@jupyter-widgets/base",
       "_view_module_version": "1.2.0",
       "_view_name": "LayoutView",
       "align_content": null,
       "align_items": null,
       "align_self": null,
       "border": null,
       "bottom": null,
       "display": null,
       "flex": null,
       "flex_flow": null,
       "grid_area": null,
       "grid_auto_columns": null,
       "grid_auto_flow": null,
       "grid_auto_rows": null,
       "grid_column": null,
       "grid_gap": null,
       "grid_row": null,
       "grid_template_areas": null,
       "grid_template_columns": null,
       "grid_template_rows": null,
       "height": null,
       "justify_content": null,
       "justify_items": null,
       "left": null,
       "margin": null,
       "max_height": null,
       "max_width": null,
       "min_height": null,
       "min_width": null,
       "object_fit": null,
       "object_position": null,
       "order": null,
       "overflow": null,
       "overflow_x": null,
       "overflow_y": null,
       "padding": null,
       "right": null,
       "top": null,
       "visibility": null,
       "width": null
      }
     },
     "846ac068452e4571826ab9c3271ddfc7": {
      "model_module": "@jupyter-widgets/base",
      "model_module_version": "1.2.0",
      "model_name": "LayoutModel",
      "state": {
       "_model_module": "@jupyter-widgets/base",
       "_model_module_version": "1.2.0",
       "_model_name": "LayoutModel",
       "_view_count": null,
       "_view_module": "@jupyter-widgets/base",
       "_view_module_version": "1.2.0",
       "_view_name": "LayoutView",
       "align_content": null,
       "align_items": null,
       "align_self": null,
       "border": null,
       "bottom": null,
       "display": null,
       "flex": null,
       "flex_flow": null,
       "grid_area": null,
       "grid_auto_columns": null,
       "grid_auto_flow": null,
       "grid_auto_rows": null,
       "grid_column": null,
       "grid_gap": null,
       "grid_row": null,
       "grid_template_areas": null,
       "grid_template_columns": null,
       "grid_template_rows": null,
       "height": null,
       "justify_content": null,
       "justify_items": null,
       "left": null,
       "margin": null,
       "max_height": null,
       "max_width": null,
       "min_height": null,
       "min_width": null,
       "object_fit": null,
       "object_position": null,
       "order": null,
       "overflow": null,
       "overflow_x": null,
       "overflow_y": null,
       "padding": null,
       "right": null,
       "top": null,
       "visibility": null,
       "width": null
      }
     },
     "883932fb1ae14363972cb877f09a2a52": {
      "model_module": "@jupyter-widgets/controls",
      "model_module_version": "1.5.0",
      "model_name": "HBoxModel",
      "state": {
       "_dom_classes": [],
       "_model_module": "@jupyter-widgets/controls",
       "_model_module_version": "1.5.0",
       "_model_name": "HBoxModel",
       "_view_count": null,
       "_view_module": "@jupyter-widgets/controls",
       "_view_module_version": "1.5.0",
       "_view_name": "HBoxView",
       "box_style": "",
       "children": [
        "IPY_MODEL_758fa838db37407686ef99e5dbdf0c8f",
        "IPY_MODEL_d8041aa54fc847f4b0612549ee1e58e9"
       ],
       "layout": "IPY_MODEL_c1e2dc67bf7448cf8a7e031eec1c63e3"
      }
     },
     "8ac47d4b50aa490883849075d08b3c74": {
      "model_module": "@jupyter-widgets/controls",
      "model_module_version": "1.5.0",
      "model_name": "DescriptionStyleModel",
      "state": {
       "_model_module": "@jupyter-widgets/controls",
       "_model_module_version": "1.5.0",
       "_model_name": "DescriptionStyleModel",
       "_view_count": null,
       "_view_module": "@jupyter-widgets/base",
       "_view_module_version": "1.2.0",
       "_view_name": "StyleView",
       "description_width": ""
      }
     },
     "92a84fb2c8124d3b9871166da6940f1b": {
      "model_module": "@jupyter-widgets/controls",
      "model_module_version": "1.5.0",
      "model_name": "HBoxModel",
      "state": {
       "_dom_classes": [],
       "_model_module": "@jupyter-widgets/controls",
       "_model_module_version": "1.5.0",
       "_model_name": "HBoxModel",
       "_view_count": null,
       "_view_module": "@jupyter-widgets/controls",
       "_view_module_version": "1.5.0",
       "_view_name": "HBoxView",
       "box_style": "",
       "children": [
        "IPY_MODEL_d6f70dc5b15e45059ca7e3ee24e4fb3f",
        "IPY_MODEL_f85d59e4a0cd4c638bfe559f718456cf"
       ],
       "layout": "IPY_MODEL_df44e22d533e4a7fa86408080678d6bc"
      }
     },
     "9a5b427604cb4e16a67799238f8ae5ce": {
      "model_module": "@jupyter-widgets/base",
      "model_module_version": "1.2.0",
      "model_name": "LayoutModel",
      "state": {
       "_model_module": "@jupyter-widgets/base",
       "_model_module_version": "1.2.0",
       "_model_name": "LayoutModel",
       "_view_count": null,
       "_view_module": "@jupyter-widgets/base",
       "_view_module_version": "1.2.0",
       "_view_name": "LayoutView",
       "align_content": null,
       "align_items": null,
       "align_self": null,
       "border": null,
       "bottom": null,
       "display": null,
       "flex": null,
       "flex_flow": null,
       "grid_area": null,
       "grid_auto_columns": null,
       "grid_auto_flow": null,
       "grid_auto_rows": null,
       "grid_column": null,
       "grid_gap": null,
       "grid_row": null,
       "grid_template_areas": null,
       "grid_template_columns": null,
       "grid_template_rows": null,
       "height": null,
       "justify_content": null,
       "justify_items": null,
       "left": null,
       "margin": null,
       "max_height": null,
       "max_width": null,
       "min_height": null,
       "min_width": null,
       "object_fit": null,
       "object_position": null,
       "order": null,
       "overflow": null,
       "overflow_x": null,
       "overflow_y": null,
       "padding": null,
       "right": null,
       "top": null,
       "visibility": null,
       "width": null
      }
     },
     "9a89961daa1146d89a450b70031cd1b1": {
      "model_module": "@jupyter-widgets/base",
      "model_module_version": "1.2.0",
      "model_name": "LayoutModel",
      "state": {
       "_model_module": "@jupyter-widgets/base",
       "_model_module_version": "1.2.0",
       "_model_name": "LayoutModel",
       "_view_count": null,
       "_view_module": "@jupyter-widgets/base",
       "_view_module_version": "1.2.0",
       "_view_name": "LayoutView",
       "align_content": null,
       "align_items": null,
       "align_self": null,
       "border": null,
       "bottom": null,
       "display": null,
       "flex": null,
       "flex_flow": null,
       "grid_area": null,
       "grid_auto_columns": null,
       "grid_auto_flow": null,
       "grid_auto_rows": null,
       "grid_column": null,
       "grid_gap": null,
       "grid_row": null,
       "grid_template_areas": null,
       "grid_template_columns": null,
       "grid_template_rows": null,
       "height": null,
       "justify_content": null,
       "justify_items": null,
       "left": null,
       "margin": null,
       "max_height": null,
       "max_width": null,
       "min_height": null,
       "min_width": null,
       "object_fit": null,
       "object_position": null,
       "order": null,
       "overflow": null,
       "overflow_x": null,
       "overflow_y": null,
       "padding": null,
       "right": null,
       "top": null,
       "visibility": null,
       "width": null
      }
     },
     "9b20ab0a05f741a483eb7d6b8c60d7d1": {
      "model_module": "@jupyter-widgets/base",
      "model_module_version": "1.2.0",
      "model_name": "LayoutModel",
      "state": {
       "_model_module": "@jupyter-widgets/base",
       "_model_module_version": "1.2.0",
       "_model_name": "LayoutModel",
       "_view_count": null,
       "_view_module": "@jupyter-widgets/base",
       "_view_module_version": "1.2.0",
       "_view_name": "LayoutView",
       "align_content": null,
       "align_items": null,
       "align_self": null,
       "border": null,
       "bottom": null,
       "display": null,
       "flex": null,
       "flex_flow": null,
       "grid_area": null,
       "grid_auto_columns": null,
       "grid_auto_flow": null,
       "grid_auto_rows": null,
       "grid_column": null,
       "grid_gap": null,
       "grid_row": null,
       "grid_template_areas": null,
       "grid_template_columns": null,
       "grid_template_rows": null,
       "height": null,
       "justify_content": null,
       "justify_items": null,
       "left": null,
       "margin": null,
       "max_height": null,
       "max_width": null,
       "min_height": null,
       "min_width": null,
       "object_fit": null,
       "object_position": null,
       "order": null,
       "overflow": null,
       "overflow_x": null,
       "overflow_y": null,
       "padding": null,
       "right": null,
       "top": null,
       "visibility": null,
       "width": null
      }
     },
     "a1c4d475493e4f469a1eef8dac75306c": {
      "model_module": "@jupyter-widgets/base",
      "model_module_version": "1.2.0",
      "model_name": "LayoutModel",
      "state": {
       "_model_module": "@jupyter-widgets/base",
       "_model_module_version": "1.2.0",
       "_model_name": "LayoutModel",
       "_view_count": null,
       "_view_module": "@jupyter-widgets/base",
       "_view_module_version": "1.2.0",
       "_view_name": "LayoutView",
       "align_content": null,
       "align_items": null,
       "align_self": null,
       "border": null,
       "bottom": null,
       "display": null,
       "flex": null,
       "flex_flow": null,
       "grid_area": null,
       "grid_auto_columns": null,
       "grid_auto_flow": null,
       "grid_auto_rows": null,
       "grid_column": null,
       "grid_gap": null,
       "grid_row": null,
       "grid_template_areas": null,
       "grid_template_columns": null,
       "grid_template_rows": null,
       "height": null,
       "justify_content": null,
       "justify_items": null,
       "left": null,
       "margin": null,
       "max_height": null,
       "max_width": null,
       "min_height": null,
       "min_width": null,
       "object_fit": null,
       "object_position": null,
       "order": null,
       "overflow": null,
       "overflow_x": null,
       "overflow_y": null,
       "padding": null,
       "right": null,
       "top": null,
       "visibility": null,
       "width": null
      }
     },
     "a211d739558142468997f8cc41b6a446": {
      "model_module": "@jupyter-widgets/controls",
      "model_module_version": "1.5.0",
      "model_name": "DescriptionStyleModel",
      "state": {
       "_model_module": "@jupyter-widgets/controls",
       "_model_module_version": "1.5.0",
       "_model_name": "DescriptionStyleModel",
       "_view_count": null,
       "_view_module": "@jupyter-widgets/base",
       "_view_module_version": "1.2.0",
       "_view_name": "StyleView",
       "description_width": ""
      }
     },
     "a3f5824585ac45f3976c69e7e164c791": {
      "model_module": "@jupyter-widgets/controls",
      "model_module_version": "1.5.0",
      "model_name": "HTMLModel",
      "state": {
       "_dom_classes": [],
       "_model_module": "@jupyter-widgets/controls",
       "_model_module_version": "1.5.0",
       "_model_name": "HTMLModel",
       "_view_count": null,
       "_view_module": "@jupyter-widgets/controls",
       "_view_module_version": "1.5.0",
       "_view_name": "HTMLView",
       "description": "",
       "description_tooltip": null,
       "layout": "IPY_MODEL_73e9ec54c5864c2ba04db33fadbd86d0",
       "placeholder": "​",
       "style": "IPY_MODEL_eb8d4aff8e494b67821a3aae55c39431",
       "value": " 41157/41157 [00:04&lt;00:00, 9943.60it/s]"
      }
     },
     "a909e12f30e4435798635a4b0b9e914d": {
      "model_module": "@jupyter-widgets/base",
      "model_module_version": "1.2.0",
      "model_name": "LayoutModel",
      "state": {
       "_model_module": "@jupyter-widgets/base",
       "_model_module_version": "1.2.0",
       "_model_name": "LayoutModel",
       "_view_count": null,
       "_view_module": "@jupyter-widgets/base",
       "_view_module_version": "1.2.0",
       "_view_name": "LayoutView",
       "align_content": null,
       "align_items": null,
       "align_self": null,
       "border": null,
       "bottom": null,
       "display": null,
       "flex": null,
       "flex_flow": null,
       "grid_area": null,
       "grid_auto_columns": null,
       "grid_auto_flow": null,
       "grid_auto_rows": null,
       "grid_column": null,
       "grid_gap": null,
       "grid_row": null,
       "grid_template_areas": null,
       "grid_template_columns": null,
       "grid_template_rows": null,
       "height": null,
       "justify_content": null,
       "justify_items": null,
       "left": null,
       "margin": null,
       "max_height": null,
       "max_width": null,
       "min_height": null,
       "min_width": null,
       "object_fit": null,
       "object_position": null,
       "order": null,
       "overflow": null,
       "overflow_x": null,
       "overflow_y": null,
       "padding": null,
       "right": null,
       "top": null,
       "visibility": null,
       "width": null
      }
     },
     "acb4cee50e904725aad4d206e045fa2e": {
      "model_module": "@jupyter-widgets/controls",
      "model_module_version": "1.5.0",
      "model_name": "HTMLModel",
      "state": {
       "_dom_classes": [],
       "_model_module": "@jupyter-widgets/controls",
       "_model_module_version": "1.5.0",
       "_model_name": "HTMLModel",
       "_view_count": null,
       "_view_module": "@jupyter-widgets/controls",
       "_view_module_version": "1.5.0",
       "_view_name": "HTMLView",
       "description": "",
       "description_tooltip": null,
       "layout": "IPY_MODEL_cf548145e287472595e213e9a3e0155e",
       "placeholder": "​",
       "style": "IPY_MODEL_5edce4395dee47ca8f080f5f80e7ec45",
       "value": " 41157/41157 [00:00&lt;00:00, 49966.26it/s]"
      }
     },
     "b959239f029a4e489c7b408ee969f553": {
      "model_module": "@jupyter-widgets/controls",
      "model_module_version": "1.5.0",
      "model_name": "ProgressStyleModel",
      "state": {
       "_model_module": "@jupyter-widgets/controls",
       "_model_module_version": "1.5.0",
       "_model_name": "ProgressStyleModel",
       "_view_count": null,
       "_view_module": "@jupyter-widgets/base",
       "_view_module_version": "1.2.0",
       "_view_name": "StyleView",
       "bar_color": null,
       "description_width": "initial"
      }
     },
     "c1e2dc67bf7448cf8a7e031eec1c63e3": {
      "model_module": "@jupyter-widgets/base",
      "model_module_version": "1.2.0",
      "model_name": "LayoutModel",
      "state": {
       "_model_module": "@jupyter-widgets/base",
       "_model_module_version": "1.2.0",
       "_model_name": "LayoutModel",
       "_view_count": null,
       "_view_module": "@jupyter-widgets/base",
       "_view_module_version": "1.2.0",
       "_view_name": "LayoutView",
       "align_content": null,
       "align_items": null,
       "align_self": null,
       "border": null,
       "bottom": null,
       "display": null,
       "flex": null,
       "flex_flow": null,
       "grid_area": null,
       "grid_auto_columns": null,
       "grid_auto_flow": null,
       "grid_auto_rows": null,
       "grid_column": null,
       "grid_gap": null,
       "grid_row": null,
       "grid_template_areas": null,
       "grid_template_columns": null,
       "grid_template_rows": null,
       "height": null,
       "justify_content": null,
       "justify_items": null,
       "left": null,
       "margin": null,
       "max_height": null,
       "max_width": null,
       "min_height": null,
       "min_width": null,
       "object_fit": null,
       "object_position": null,
       "order": null,
       "overflow": null,
       "overflow_x": null,
       "overflow_y": null,
       "padding": null,
       "right": null,
       "top": null,
       "visibility": null,
       "width": null
      }
     },
     "c2725e1640d341aa9e976a713ea95ce0": {
      "model_module": "@jupyter-widgets/controls",
      "model_module_version": "1.5.0",
      "model_name": "FloatProgressModel",
      "state": {
       "_dom_classes": [],
       "_model_module": "@jupyter-widgets/controls",
       "_model_module_version": "1.5.0",
       "_model_name": "FloatProgressModel",
       "_view_count": null,
       "_view_module": "@jupyter-widgets/controls",
       "_view_module_version": "1.5.0",
       "_view_name": "ProgressView",
       "bar_style": "success",
       "description": "100%",
       "description_tooltip": null,
       "layout": "IPY_MODEL_a909e12f30e4435798635a4b0b9e914d",
       "max": 93069.0,
       "min": 0.0,
       "orientation": "horizontal",
       "style": "IPY_MODEL_5a2f8173a10c4bd0a5110b4e18a75fe2",
       "value": 93069.0
      }
     },
     "cde51eef2d1949a6a9d614191406e192": {
      "model_module": "@jupyter-widgets/controls",
      "model_module_version": "1.5.0",
      "model_name": "ProgressStyleModel",
      "state": {
       "_model_module": "@jupyter-widgets/controls",
       "_model_module_version": "1.5.0",
       "_model_name": "ProgressStyleModel",
       "_view_count": null,
       "_view_module": "@jupyter-widgets/base",
       "_view_module_version": "1.2.0",
       "_view_name": "StyleView",
       "bar_color": null,
       "description_width": "initial"
      }
     },
     "cf548145e287472595e213e9a3e0155e": {
      "model_module": "@jupyter-widgets/base",
      "model_module_version": "1.2.0",
      "model_name": "LayoutModel",
      "state": {
       "_model_module": "@jupyter-widgets/base",
       "_model_module_version": "1.2.0",
       "_model_name": "LayoutModel",
       "_view_count": null,
       "_view_module": "@jupyter-widgets/base",
       "_view_module_version": "1.2.0",
       "_view_name": "LayoutView",
       "align_content": null,
       "align_items": null,
       "align_self": null,
       "border": null,
       "bottom": null,
       "display": null,
       "flex": null,
       "flex_flow": null,
       "grid_area": null,
       "grid_auto_columns": null,
       "grid_auto_flow": null,
       "grid_auto_rows": null,
       "grid_column": null,
       "grid_gap": null,
       "grid_row": null,
       "grid_template_areas": null,
       "grid_template_columns": null,
       "grid_template_rows": null,
       "height": null,
       "justify_content": null,
       "justify_items": null,
       "left": null,
       "margin": null,
       "max_height": null,
       "max_width": null,
       "min_height": null,
       "min_width": null,
       "object_fit": null,
       "object_position": null,
       "order": null,
       "overflow": null,
       "overflow_x": null,
       "overflow_y": null,
       "padding": null,
       "right": null,
       "top": null,
       "visibility": null,
       "width": null
      }
     },
     "d6f70dc5b15e45059ca7e3ee24e4fb3f": {
      "model_module": "@jupyter-widgets/controls",
      "model_module_version": "1.5.0",
      "model_name": "FloatProgressModel",
      "state": {
       "_dom_classes": [],
       "_model_module": "@jupyter-widgets/controls",
       "_model_module_version": "1.5.0",
       "_model_name": "FloatProgressModel",
       "_view_count": null,
       "_view_module": "@jupyter-widgets/controls",
       "_view_module_version": "1.5.0",
       "_view_name": "ProgressView",
       "bar_style": "success",
       "description": "100%",
       "description_tooltip": null,
       "layout": "IPY_MODEL_9a89961daa1146d89a450b70031cd1b1",
       "max": 94352.0,
       "min": 0.0,
       "orientation": "horizontal",
       "style": "IPY_MODEL_62422f25182340a7aea30e5911f877ed",
       "value": 94352.0
      }
     },
     "d8041aa54fc847f4b0612549ee1e58e9": {
      "model_module": "@jupyter-widgets/controls",
      "model_module_version": "1.5.0",
      "model_name": "HTMLModel",
      "state": {
       "_dom_classes": [],
       "_model_module": "@jupyter-widgets/controls",
       "_model_module_version": "1.5.0",
       "_model_name": "HTMLModel",
       "_view_count": null,
       "_view_module": "@jupyter-widgets/controls",
       "_view_module_version": "1.5.0",
       "_view_name": "HTMLView",
       "description": "",
       "description_tooltip": null,
       "layout": "IPY_MODEL_073796bbb25444bc9e4cecfcaed481a3",
       "placeholder": "​",
       "style": "IPY_MODEL_8ac47d4b50aa490883849075d08b3c74",
       "value": " 41157/41157 [00:00&lt;00:00, 43722.30it/s]"
      }
     },
     "d9a110673d364e62b3f6ae28ebb484bd": {
      "model_module": "@jupyter-widgets/base",
      "model_module_version": "1.2.0",
      "model_name": "LayoutModel",
      "state": {
       "_model_module": "@jupyter-widgets/base",
       "_model_module_version": "1.2.0",
       "_model_name": "LayoutModel",
       "_view_count": null,
       "_view_module": "@jupyter-widgets/base",
       "_view_module_version": "1.2.0",
       "_view_name": "LayoutView",
       "align_content": null,
       "align_items": null,
       "align_self": null,
       "border": null,
       "bottom": null,
       "display": null,
       "flex": null,
       "flex_flow": null,
       "grid_area": null,
       "grid_auto_columns": null,
       "grid_auto_flow": null,
       "grid_auto_rows": null,
       "grid_column": null,
       "grid_gap": null,
       "grid_row": null,
       "grid_template_areas": null,
       "grid_template_columns": null,
       "grid_template_rows": null,
       "height": null,
       "justify_content": null,
       "justify_items": null,
       "left": null,
       "margin": null,
       "max_height": null,
       "max_width": null,
       "min_height": null,
       "min_width": null,
       "object_fit": null,
       "object_position": null,
       "order": null,
       "overflow": null,
       "overflow_x": null,
       "overflow_y": null,
       "padding": null,
       "right": null,
       "top": null,
       "visibility": null,
       "width": null
      }
     },
     "df44e22d533e4a7fa86408080678d6bc": {
      "model_module": "@jupyter-widgets/base",
      "model_module_version": "1.2.0",
      "model_name": "LayoutModel",
      "state": {
       "_model_module": "@jupyter-widgets/base",
       "_model_module_version": "1.2.0",
       "_model_name": "LayoutModel",
       "_view_count": null,
       "_view_module": "@jupyter-widgets/base",
       "_view_module_version": "1.2.0",
       "_view_name": "LayoutView",
       "align_content": null,
       "align_items": null,
       "align_self": null,
       "border": null,
       "bottom": null,
       "display": null,
       "flex": null,
       "flex_flow": null,
       "grid_area": null,
       "grid_auto_columns": null,
       "grid_auto_flow": null,
       "grid_auto_rows": null,
       "grid_column": null,
       "grid_gap": null,
       "grid_row": null,
       "grid_template_areas": null,
       "grid_template_columns": null,
       "grid_template_rows": null,
       "height": null,
       "justify_content": null,
       "justify_items": null,
       "left": null,
       "margin": null,
       "max_height": null,
       "max_width": null,
       "min_height": null,
       "min_width": null,
       "object_fit": null,
       "object_position": null,
       "order": null,
       "overflow": null,
       "overflow_x": null,
       "overflow_y": null,
       "padding": null,
       "right": null,
       "top": null,
       "visibility": null,
       "width": null
      }
     },
     "e05a6549af88499fbf82c81ede24883a": {
      "model_module": "@jupyter-widgets/base",
      "model_module_version": "1.2.0",
      "model_name": "LayoutModel",
      "state": {
       "_model_module": "@jupyter-widgets/base",
       "_model_module_version": "1.2.0",
       "_model_name": "LayoutModel",
       "_view_count": null,
       "_view_module": "@jupyter-widgets/base",
       "_view_module_version": "1.2.0",
       "_view_name": "LayoutView",
       "align_content": null,
       "align_items": null,
       "align_self": null,
       "border": null,
       "bottom": null,
       "display": null,
       "flex": null,
       "flex_flow": null,
       "grid_area": null,
       "grid_auto_columns": null,
       "grid_auto_flow": null,
       "grid_auto_rows": null,
       "grid_column": null,
       "grid_gap": null,
       "grid_row": null,
       "grid_template_areas": null,
       "grid_template_columns": null,
       "grid_template_rows": null,
       "height": null,
       "justify_content": null,
       "justify_items": null,
       "left": null,
       "margin": null,
       "max_height": null,
       "max_width": null,
       "min_height": null,
       "min_width": null,
       "object_fit": null,
       "object_position": null,
       "order": null,
       "overflow": null,
       "overflow_x": null,
       "overflow_y": null,
       "padding": null,
       "right": null,
       "top": null,
       "visibility": null,
       "width": null
      }
     },
     "e199b48535224fc5a03609120477b919": {
      "model_module": "@jupyter-widgets/base",
      "model_module_version": "1.2.0",
      "model_name": "LayoutModel",
      "state": {
       "_model_module": "@jupyter-widgets/base",
       "_model_module_version": "1.2.0",
       "_model_name": "LayoutModel",
       "_view_count": null,
       "_view_module": "@jupyter-widgets/base",
       "_view_module_version": "1.2.0",
       "_view_name": "LayoutView",
       "align_content": null,
       "align_items": null,
       "align_self": null,
       "border": null,
       "bottom": null,
       "display": null,
       "flex": null,
       "flex_flow": null,
       "grid_area": null,
       "grid_auto_columns": null,
       "grid_auto_flow": null,
       "grid_auto_rows": null,
       "grid_column": null,
       "grid_gap": null,
       "grid_row": null,
       "grid_template_areas": null,
       "grid_template_columns": null,
       "grid_template_rows": null,
       "height": null,
       "justify_content": null,
       "justify_items": null,
       "left": null,
       "margin": null,
       "max_height": null,
       "max_width": null,
       "min_height": null,
       "min_width": null,
       "object_fit": null,
       "object_position": null,
       "order": null,
       "overflow": null,
       "overflow_x": null,
       "overflow_y": null,
       "padding": null,
       "right": null,
       "top": null,
       "visibility": null,
       "width": null
      }
     },
     "e1b0283ac2264efea50e304c4bcda5a8": {
      "model_module": "@jupyter-widgets/controls",
      "model_module_version": "1.5.0",
      "model_name": "HTMLModel",
      "state": {
       "_dom_classes": [],
       "_model_module": "@jupyter-widgets/controls",
       "_model_module_version": "1.5.0",
       "_model_name": "HTMLModel",
       "_view_count": null,
       "_view_module": "@jupyter-widgets/controls",
       "_view_module_version": "1.5.0",
       "_view_name": "HTMLView",
       "description": "",
       "description_tooltip": null,
       "layout": "IPY_MODEL_2f0a63d53ba844a78e5862282d59c931",
       "placeholder": "​",
       "style": "IPY_MODEL_63df910288d7413a9370cbc9af859138",
       "value": " 41157/? [00:00&lt;00:00, 57859.48it/s]"
      }
     },
     "eb0fde215c034615ad7ccafafa163161": {
      "model_module": "@jupyter-widgets/controls",
      "model_module_version": "1.5.0",
      "model_name": "FloatProgressModel",
      "state": {
       "_dom_classes": [],
       "_model_module": "@jupyter-widgets/controls",
       "_model_module_version": "1.5.0",
       "_model_name": "FloatProgressModel",
       "_view_count": null,
       "_view_module": "@jupyter-widgets/controls",
       "_view_module_version": "1.5.0",
       "_view_name": "ProgressView",
       "bar_style": "success",
       "description": "100%",
       "description_tooltip": null,
       "layout": "IPY_MODEL_9b20ab0a05f741a483eb7d6b8c60d7d1",
       "max": 103040.0,
       "min": 0.0,
       "orientation": "horizontal",
       "style": "IPY_MODEL_cde51eef2d1949a6a9d614191406e192",
       "value": 103040.0
      }
     },
     "eb8d4aff8e494b67821a3aae55c39431": {
      "model_module": "@jupyter-widgets/controls",
      "model_module_version": "1.5.0",
      "model_name": "DescriptionStyleModel",
      "state": {
       "_model_module": "@jupyter-widgets/controls",
       "_model_module_version": "1.5.0",
       "_model_name": "DescriptionStyleModel",
       "_view_count": null,
       "_view_module": "@jupyter-widgets/base",
       "_view_module_version": "1.2.0",
       "_view_name": "StyleView",
       "description_width": ""
      }
     },
     "eee5c51f17394816b196e00f681b307a": {
      "model_module": "@jupyter-widgets/controls",
      "model_module_version": "1.5.0",
      "model_name": "HBoxModel",
      "state": {
       "_dom_classes": [],
       "_model_module": "@jupyter-widgets/controls",
       "_model_module_version": "1.5.0",
       "_model_name": "HBoxModel",
       "_view_count": null,
       "_view_module": "@jupyter-widgets/controls",
       "_view_module_version": "1.5.0",
       "_view_name": "HBoxView",
       "box_style": "",
       "children": [
        "IPY_MODEL_c2725e1640d341aa9e976a713ea95ce0",
        "IPY_MODEL_36a466bdfcd84f08b21040f0a177fc36"
       ],
       "layout": "IPY_MODEL_e05a6549af88499fbf82c81ede24883a"
      }
     },
     "f85d59e4a0cd4c638bfe559f718456cf": {
      "model_module": "@jupyter-widgets/controls",
      "model_module_version": "1.5.0",
      "model_name": "HTMLModel",
      "state": {
       "_dom_classes": [],
       "_model_module": "@jupyter-widgets/controls",
       "_model_module_version": "1.5.0",
       "_model_name": "HTMLModel",
       "_view_count": null,
       "_view_module": "@jupyter-widgets/controls",
       "_view_module_version": "1.5.0",
       "_view_name": "HTMLView",
       "description": "",
       "description_tooltip": null,
       "layout": "IPY_MODEL_845aedd433374bef8f15633087af49ad",
       "placeholder": "​",
       "style": "IPY_MODEL_59404f7e8d1945f89e0de3b25471fa09",
       "value": " 94352/94352 [00:00&lt;00:00, 262774.81it/s]"
      }
     },
     "fc3a28a9b93d494da394474963b78293": {
      "model_module": "@jupyter-widgets/base",
      "model_module_version": "1.2.0",
      "model_name": "LayoutModel",
      "state": {
       "_model_module": "@jupyter-widgets/base",
       "_model_module_version": "1.2.0",
       "_model_name": "LayoutModel",
       "_view_count": null,
       "_view_module": "@jupyter-widgets/base",
       "_view_module_version": "1.2.0",
       "_view_name": "LayoutView",
       "align_content": null,
       "align_items": null,
       "align_self": null,
       "border": null,
       "bottom": null,
       "display": null,
       "flex": null,
       "flex_flow": null,
       "grid_area": null,
       "grid_auto_columns": null,
       "grid_auto_flow": null,
       "grid_auto_rows": null,
       "grid_column": null,
       "grid_gap": null,
       "grid_row": null,
       "grid_template_areas": null,
       "grid_template_columns": null,
       "grid_template_rows": null,
       "height": null,
       "justify_content": null,
       "justify_items": null,
       "left": null,
       "margin": null,
       "max_height": null,
       "max_width": null,
       "min_height": null,
       "min_width": null,
       "object_fit": null,
       "object_position": null,
       "order": null,
       "overflow": null,
       "overflow_x": null,
       "overflow_y": null,
       "padding": null,
       "right": null,
       "top": null,
       "visibility": null,
       "width": null
      }
     },
     "fd932748155b40a889038f684c92924e": {
      "model_module": "@jupyter-widgets/base",
      "model_module_version": "1.2.0",
      "model_name": "LayoutModel",
      "state": {
       "_model_module": "@jupyter-widgets/base",
       "_model_module_version": "1.2.0",
       "_model_name": "LayoutModel",
       "_view_count": null,
       "_view_module": "@jupyter-widgets/base",
       "_view_module_version": "1.2.0",
       "_view_name": "LayoutView",
       "align_content": null,
       "align_items": null,
       "align_self": null,
       "border": null,
       "bottom": null,
       "display": null,
       "flex": null,
       "flex_flow": null,
       "grid_area": null,
       "grid_auto_columns": null,
       "grid_auto_flow": null,
       "grid_auto_rows": null,
       "grid_column": null,
       "grid_gap": null,
       "grid_row": null,
       "grid_template_areas": null,
       "grid_template_columns": null,
       "grid_template_rows": null,
       "height": null,
       "justify_content": null,
       "justify_items": null,
       "left": null,
       "margin": null,
       "max_height": null,
       "max_width": null,
       "min_height": null,
       "min_width": null,
       "object_fit": null,
       "object_position": null,
       "order": null,
       "overflow": null,
       "overflow_x": null,
       "overflow_y": null,
       "padding": null,
       "right": null,
       "top": null,
       "visibility": null,
       "width": null
      }
     }
    },
    "version_major": 2,
    "version_minor": 0
   }
  }
 },
 "nbformat": 4,
 "nbformat_minor": 4
}
